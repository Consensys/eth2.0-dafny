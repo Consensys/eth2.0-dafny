{
 "cells": [
  {
   "cell_type": "markdown",
   "source": [
    "/*\n",
    " * Copyright 2021 ConsenSys Software Inc.\n",
    " *\n",
    " * Licensed under the Apache License, Version 2.0 (the \"License\"); you may \n",
    " * not use this file except in compliance with the License. You may obtain \n",
    " * a copy of the License at http://www.apache.org/licenses/LICENSE-2.0\n",
    " *\n",
    " * Unless required by applicable law or agreed to in writing, software dis-\n",
    " * tributed under the License is distributed on an \"AS IS\" BASIS, WITHOUT \n",
    " * WARRANTIES OR CONDITIONS OF ANY KIND, either express or implied. See the \n",
    " * License for the specific language governing permissions and limitations \n",
    " * under the License.\n",
    " */"
   ],
   "metadata": {}
  },
  {
   "cell_type": "markdown",
   "source": [
    "# Notebook description\n",
    "\n",
    "This notebook contains some basic processing to automate the collection of statistics relating to the Dafny files.\n",
    "By creating functions to perform analysis of Dafny files, additional results can easily be added to the pandas dataframe.\n",
    "The use of a pandas dataframe provides many options for visualisation and the data can easily by stored in a csv.\n",
    "The data can also easily be supplemented with timestamps to faciliate time series analysis.\n",
    "\n",
    "This file is a working file and will be converted to a python script in due course."
   ],
   "metadata": {}
  },
  {
   "cell_type": "markdown",
   "source": [
    "# TODO: Reformat function documentation to standard style used within this repo"
   ],
   "metadata": {}
  },
  {
   "cell_type": "markdown",
   "source": [
    "## Libraries"
   ],
   "metadata": {}
  },
  {
   "cell_type": "code",
   "execution_count": 20,
   "source": [
    "# import libraries\n",
    "import os\n",
    "import subprocess\n",
    "\n",
    "import pandas as pd\n",
    "import re\n",
    "import numpy as np\n",
    "\n",
    "import time\n",
    "import shutil"
   ],
   "outputs": [],
   "metadata": {}
  },
  {
   "cell_type": "markdown",
   "source": [
    "## File processing functions"
   ],
   "metadata": {}
  },
  {
   "cell_type": "code",
   "execution_count": 21,
   "source": [
    "# find *.dfy files, within a given local repo path\n",
    "# this function will search all subfolders of dirName\n",
    "# a sorted list of files is returned\n",
    "def getListOfDafnyFiles(dirName,exclude_folders=[]):\n",
    "    listOfFile = os.listdir(dirName)\n",
    "    allFiles = list()\n",
    "    for entry in listOfFile:\n",
    "        fullPath = os.path.join(dirName, entry)\n",
    "        # if entry is a directory then append the list of files in this directory to allFiles\n",
    "        if os.path.isdir(fullPath):\n",
    "            if os.path.abspath(fullPath) not in exclude_folders:\n",
    "                allFiles = allFiles + getListOfDafnyFiles(fullPath, exclude_folders)\n",
    "        # else append file only if it is a Dafny file\n",
    "        else:\n",
    "            if entry.endswith(\".dfy\"):\n",
    "                allFiles.append(fullPath)\n",
    "    return sorted(allFiles)   "
   ],
   "outputs": [],
   "metadata": {}
  },
  {
   "cell_type": "code",
   "execution_count": 22,
   "source": [
    "# find folders within the repo that have *.dfy files\n",
    "# a sorted list of folders is returned (i.e. full path of each folder)\n",
    "def getListOfDafnyFolders(dafnyFiles):\n",
    "    listOfDirectories = list()\n",
    "    for file in dafnyFiles:\n",
    "        listOfDirectories.append(os.path.dirname(file))\n",
    "    return sorted(list(set(listOfDirectories)))"
   ],
   "outputs": [],
   "metadata": {}
  },
  {
   "cell_type": "code",
   "execution_count": 23,
   "source": [
    "# get folder for an individual dafny file\n",
    "# i.e. for the full path of a dafny file, the filename and repo path are striped\n",
    "def getFolder(repo, dafny_file):\n",
    "    repo_path, folder = os.path.dirname(dafny_file).split(repo,1)\n",
    "    return folder"
   ],
   "outputs": [],
   "metadata": {}
  },
  {
   "cell_type": "markdown",
   "source": [
    "### Test file processing functions"
   ],
   "metadata": {}
  },
  {
   "cell_type": "code",
   "execution_count": 24,
   "source": [
    "# test the getListOfDafnyFiles, getListOfDafnyFolders and getFolder functions\n",
    "# local repo path needs to be set prior to running the tests and `if False` \n",
    "# must be changed to `if True`\n",
    "if False:\n",
    "    repo_directory = \"/home/roberto/projects_offline/lavoro/consensys/content/eth2.0-dafny-for-stats\"\n",
    "    exclude_folders_rel_path = [\"src/dafny/libraries/integers\"]\n",
    "\n",
    "    exclude_folders_full_path = [os.path.join(repo_directory,f) for f in exclude_folders]\n",
    "\n",
    "    print(\"Test getListOfDafnyFiles: \")\n",
    "    files = getListOfDafnyFiles(repo_directory, exclude_folders_full_path)\n",
    "    for i in files:\n",
    "        print(i)\n",
    "    print(\"Length of returned list: \", len(files))\n",
    "\n",
    "    print(\"Test getListOfDafnyFolders: \")\n",
    "    directories = getListOfDafnyFolders(files)\n",
    "    for i in directories:\n",
    "        print(i)\n",
    "    print(\"Length of returned list: \", len(directories))\n",
    "\n",
    "    print(\"Test getFolder for each file in files: \")\n",
    "    for file in files:\n",
    "        print(getFolder(repo_directory, file))"
   ],
   "outputs": [],
   "metadata": {
    "tags": []
   }
  },
  {
   "cell_type": "markdown",
   "source": [
    "## Functions to collect statistics"
   ],
   "metadata": {}
  },
  {
   "cell_type": "code",
   "execution_count": 25,
   "source": [
    "# count the number of \"lemmas\" in a given dafny file\n",
    "# this function uses a subprocess call\n",
    "# an alternative method would be to read and search the file directly\n",
    "def getLemmas(dafny_file):\n",
    "    cmd = \"cat \" + dafny_file +\"| grep lemma | wc -l\"\n",
    "    result = subprocess.run(['/bin/bash', '-i', '-c', cmd], stdout=subprocess.PIPE)\n",
    "    return result.stdout.strip().decode('ascii')"
   ],
   "outputs": [],
   "metadata": {}
  },
  {
   "cell_type": "code",
   "execution_count": 26,
   "source": [
    "# count the number of \"function methods\" in a given dafny file\n",
    "# this function uses a subprocess call\n",
    "# an alternative method would be to read and search the file directly\n",
    "def getFunctions(dafny_file):\n",
    "    cmd = \"cat \" + dafny_file +\"| grep function | grep method | wc -l\"\n",
    "    result = subprocess.run(['/bin/bash', '-i', '-c', cmd], stdout=subprocess.PIPE)\n",
    "    return result.stdout.strip().decode('ascii')"
   ],
   "outputs": [],
   "metadata": {}
  },
  {
   "cell_type": "code",
   "execution_count": 27,
   "source": [
    "# count the number of ghost (= function and lemmas) processes\n",
    "# ignores function methods\n",
    "# to be referred to as \"Theorems\" in the data display\n",
    "def getGhost(dafny_file):\n",
    "    tmp_file = open(dafny_file, \"r\")\n",
    "    count = 0\n",
    "    for line in tmp_file.readlines():\n",
    "        if line.strip().startswith((\"function\", \"lemma\")):\n",
    "            if not line.strip().startswith(\"function method\"):\n",
    "                count += 1\n",
    "                #print(line)\n",
    "    tmp_file.close()\n",
    "    return count"
   ],
   "outputs": [],
   "metadata": {}
  },
  {
   "cell_type": "code",
   "execution_count": 28,
   "source": [
    "# count the number of non-ghost ()= function methods and methods and predicates) processes\n",
    "# to be referred to as \"Implementations\" in the data display\n",
    "def getNonGhost(dafny_file):\n",
    "    tmp_file = open(dafny_file, \"r\")\n",
    "    count = 0\n",
    "    for line in tmp_file.readlines():\n",
    "        if line.strip().startswith((\"function method\", \"method\", \"predicate\")):\n",
    "            count += 1\n",
    "            #print(line)\n",
    "\n",
    "    tmp_file.close()\n",
    "    return count"
   ],
   "outputs": [],
   "metadata": {}
  },
  {
   "cell_type": "code",
   "execution_count": 66,
   "source": [
    "# count the number of lines of code\n",
    "# the count occurs after the dafny file is printed used the compiler\n",
    "# the count also occurs after this output has been cleaned\n",
    "def getLoC(dafny_file):\n",
    "    show_ghost = True\n",
    "    executable = \"dafny\"\n",
    "    args  = [] \n",
    "    args += ['/rprint:-']\n",
    "    args += [\"/noAutoReq\"]\n",
    "    args += [\"/noVerify\"]\n",
    "    # args += [\"/nologo\"]\n",
    "    args += [\"/env:0\"]\n",
    "    if show_ghost:\n",
    "        args += [\"/printMode:NoIncludes\"]\n",
    "    else:\n",
    "        args += [\"/printMode:NoGhost\"]\n",
    "    args += [dafny_file]\n",
    "    cmd = ' '.join([executable] + args)\n",
    "    result = subprocess.run(['/bin/bash', '-i', '-c', cmd], stdout=subprocess.PIPE)\n",
    "    output = result.stdout.decode('ascii')\n",
    "    #print(type(result.stdout.decode('ascii')))\n",
    "    #print(result.stdout.decode('ascii'))\n",
    "\n",
    "    #remove this section once code has be tested OR comment out\n",
    "    #tmp_file = open(\"tmp.txt\", \"w\")\n",
    "    #tmp_file.write(result.stdout.decode('ascii'))\n",
    "    #tmp_file.close()\n",
    "    ######---------------------\n",
    "\n",
    "    count = 0\n",
    "    for line in output.splitlines():\n",
    "        # clean output i.e. remove comment at start and verifier status\n",
    "        if line.startswith((\"Dafny program verifier did not attempt verification\", \"//\")):\n",
    "            #print(i)\n",
    "            pass\n",
    "        else:\n",
    "            if line.strip():\n",
    "                count += 1\n",
    "                #print(line)\n",
    "    #print(\"#LoC: \", count)\n",
    "    return count"
   ],
   "outputs": [],
   "metadata": {}
  },
  {
   "cell_type": "code",
   "execution_count": 30,
   "source": [
    "# count the number of lines included in the license comment\n",
    "# assumes license comment is at the start of the file and is of format /* ... */\n",
    "# assumes that it has been confirmed that the file has a license comment\n",
    "def getLicenseLineCount(dafny_file):\n",
    "    tmp_file = open(dafny_file, \"r\")\n",
    "    count = 0\n",
    "    flag = 0\n",
    "    for line in tmp_file.readlines():\n",
    "        tmp_line = line.strip()\n",
    "        cleaned = ' '.join(i for i in tmp_line.split() if i not in [\"//\", \"/*\", \"/**\", \"*\", \"*/\"])\n",
    "        if (not flag) and (tmp_line.startswith(\"/*\")):\n",
    "            if cleaned:\n",
    "                count += 1\n",
    "            flag = 1\n",
    "        elif flag:\n",
    "            if cleaned:\n",
    "                count += 1\n",
    "            if tmp_line.startswith(\"*/\"):\n",
    "                tmp_file.close()\n",
    "                return count"
   ],
   "outputs": [],
   "metadata": {}
  },
  {
   "cell_type": "code",
   "execution_count": 31,
   "source": [
    "# count the number of lines of documentation\n",
    "# don't include license comment or empty comment lines\n",
    "def getDocumentation(dafny_file):\n",
    "    tmp_file = open(dafny_file, \"r\")\n",
    "    count = 0\n",
    "    license_flag = 0\n",
    "    for line in tmp_file.readlines():\n",
    "        tmp_line = line.strip()\n",
    "        if tmp_line.startswith((\"//\", \"/*\", \"/**\", \"*\", \"*/\")):\n",
    "            cleaned = ' '.join(i for i in tmp_line.split() if i not in [\"//\", \"/*\", \"/**\", \"*\", \"*/\"])\n",
    "            if cleaned:\n",
    "                #print(cleaned)\n",
    "                count += 1\n",
    "                #print(line)\n",
    "        if tmp_line.startswith(\"* Copyright 2021 ConsenSys Software Inc.\"):\n",
    "            license_flag = 1\n",
    "\n",
    "    tmp_file.close()\n",
    "    if license_flag:\n",
    "        count -= getLicenseLineCount(dafny_file)\n",
    "        #print(getLicenseLineCount(dafny_file))\n",
    "    return count"
   ],
   "outputs": [],
   "metadata": {}
  },
  {
   "cell_type": "code",
   "execution_count": 83,
   "source": [
    "# count the number of theorems (getGhost) and implementations (getNonGhost) proved\n",
    "# i.e. check that the number of errors when verified is zero\n",
    "# TODO: include arguments for getGhost and getNonGhost to reduce duplicate processing\n",
    "def getProved(dafny_file):\n",
    "    cmd = \"dafny /dafnyVerify:1 /compile:0 /noCheating:1 /vcsMaxKeepGoingSplits:10 /vcsCores:12 /vcsMaxCost:1000  /vcsKeepGoingTimeout:30  /vcsFinalAssertTimeout:90  /verifySeparately \" + dafny_file\n",
    "    result = subprocess.run(['/bin/bash', '-i', '-c', cmd], stdout=subprocess.PIPE)\n",
    "    output = result.stdout.decode('ascii')\n",
    "    # print(result)\n",
    "    for line in output.splitlines():\n",
    "        if line.startswith(\"Dafny program verifier finished with \"):\n",
    "            # check no errors\n",
    "            # print(line, re.findall(r'\\d+', line)[1], type(re.findall(r'\\d+', line)[1]))\n",
    "            if not int(re.findall(r'\\d+', line)[1]):\n",
    "                return (getGhost(dafny_file) + getNonGhost(dafny_file))\n",
    "        else:\n",
    "            pass\n",
    "    # if the verifier doesn't finish, return -1\n",
    "    return 0"
   ],
   "outputs": [],
   "metadata": {}
  },
  {
   "cell_type": "markdown",
   "source": [
    "### Test statistics functions"
   ],
   "metadata": {}
  },
  {
   "cell_type": "code",
   "execution_count": 75,
   "source": [
    "# s/False/True if need to run the tests\n",
    "if False:\n",
    "    # test file options:\n",
    "    test_file = \"/Users/franck/development/eth2.0-dafny/src/dafny/beacon/gasper/GasperProofs.p.dfy\"\n",
    "    #test_file = \"/Users/franck/development/eth2.0-dafny/test/dafny/merkle/Merkleise.test.dfy\"\n",
    "    #test_file = \"/Users/franck/development/eth2.0-dafny/test/dafny/ssz/BitListSeDes.tests.dfy\"\n",
    "    #test_file = \"/Users/franck/development/eth2.0-dafny/src/dafny/ssz/BitListSeDes.dfy\"\n",
    "    #test_file = \"/Users/franck/development/eth2.0-dafny/src/dafny/merkle/Merkleise.dfy\"\n",
    "\n",
    "    #print(\"Lemmas ...\")\n",
    "    #print(getLemmas(test_file))\n",
    "\n",
    "    #print(\"Function methods ...\")\n",
    "    #print(getFunctions(test_file))\n",
    "\n",
    "    print(\"LoC ...\")\n",
    "    print(getLoC(test_file))\n",
    "\n",
    "    #print(\"Documentation ...\")\n",
    "    #print(getDocumentation(test_file))\n",
    "\n",
    "    print(\"Proved (verified from compile) ...\")\n",
    "    print(getProved(test_file))\n",
    "\n",
    "    #print(\"Ghost ...\")\n",
    "    #rint(getGhost(test_file))\n",
    "\n",
    "    #print(\"NonGhost ...\")\n",
    "    #print(getNonGhost(test_file))"
   ],
   "outputs": [
    {
     "output_type": "stream",
     "name": "stdout",
     "text": [
      "LoC ...\n",
      "268\n",
      "Proved (verified from compile) ...\n",
      "CompletedProcess(args=['/bin/bash', '-i', '-c', 'dafny /dafnyVerify:1 /compile:0 /noCheating:1 /vcsMaxKeepGoingSplits:10 /vcsCores:12 /vcsMaxCost:1000  /vcsKeepGoingTimeout:30  /vcsFinalAssertTimeout:90  /verifySeparately /Users/franck/development/eth2.0-dafny/src/dafny/beacon/gasper/GasperProofs.p.dfy'], returncode=0, stdout=b'/Users/franck/development/eth2.0-dafny/src/dafny/beacon/gasper/../../utils/SetHelpers.dfy(60,22): Warning: /!\\\\ No terms found to trigger on.\\n/Users/franck/development/eth2.0-dafny/src/dafny/beacon/gasper/./GasperEBBs.dfy(91,16): Warning: /!\\\\ No terms found to trigger on.\\n/Users/franck/development/eth2.0-dafny/src/dafny/beacon/gasper/./GasperEBBs.dfy(159,16): Warning: /!\\\\ No terms found to trigger on.\\n\\nDafny program verifier finished with 12 verified, 0 errors\\n')\n",
      "Dafny program verifier finished with 12 verified, 0 errors 0 <class 'str'>\n",
      "10\n"
     ]
    }
   ],
   "metadata": {}
  },
  {
   "cell_type": "markdown",
   "source": [
    "## Collate results into a pandas dataframe\n",
    "\n",
    "One row per Dafny file."
   ],
   "metadata": {}
  },
  {
   "cell_type": "code",
   "execution_count": 78,
   "source": [
    "import tempfile\n",
    "\n",
    "# create a pandas dataframe to store stats relating to the dafny files\n",
    "column_list = ['Files', 'Folder', '#LoC', 'Theorems', 'Implementations', \"Documentation\", \"#Doc/#LoC (%)\", \"Proved\"]\n",
    "\n",
    "# list here all the directory not to include in the stat collection with path relative to the root of the repo\n",
    "exclude_folders_rel_path = []\n",
    "\n",
    "# performs a clean checkout from GitHub before collecting the stats\n",
    "with tempfile.TemporaryDirectory() as repo_directory: \n",
    "    # subprocess.run(['/bin/bash','-c','git clone git@github.com:ConsenSys/eth2.0-dafny.git -b goal1 --single-branch ' + repo_directory], stdout=subprocess.PIPE)\n",
    "\n",
    "    repo_directory = \"/Users/franck/development/eth2.0-dafny/src/dafny/\"\n",
    "\n",
    "    exclude_folders_full_path = [os.path.join(repo_directory,f) for f in exclude_folders_rel_path]\n",
    "\n",
    "    files = getListOfDafnyFiles(repo_directory, exclude_folders_full_path)   \n",
    "\n",
    "    df = pd.DataFrame(columns=column_list)\n",
    "\n",
    "    # collect data for each dafny file\n",
    "    for file in files:\n",
    "        loc = getLoC(file)\n",
    "        ghost = getGhost(file)\n",
    "        nonghost = getNonGhost(file)\n",
    "        doc = getDocumentation(file)\n",
    "        proved = getProved(file)\n",
    "        df2 = pd.DataFrame([[os.path.basename(file), \n",
    "                            getFolder(repo_directory, file), \n",
    "                            loc ,\n",
    "                            ghost, \n",
    "                            nonghost,\n",
    "                            doc,\n",
    "                            round(doc/loc * 100),\n",
    "                            proved]], \n",
    "                            columns=column_list)\n",
    "        df = df.append(df2, ignore_index=True)\n",
    "\n",
    "    # create and append totals for numeric columns\n",
    "    totals = pd.DataFrame([[\"\", \n",
    "                            \"TOTAL\", \n",
    "                            df['#LoC'].sum(),\n",
    "                            df['Theorems'].sum(), \n",
    "                            df['Implementations'].sum(),\n",
    "                            df['Documentation'].sum(),\n",
    "                            round(df['Documentation'].sum()/df['#LoC'].sum() * 100),\n",
    "                            df['Proved'].sum()]], \n",
    "                            columns=column_list)\n",
    "    df = df.append(totals, ignore_index=True)\n",
    "\n",
    "    # convert numeric columns to int64\n",
    "    numCols = ['#LoC', 'Theorems', 'Implementations', \"Documentation\", \"#Doc/#LoC (%)\", \"Proved\"]\n",
    "    df[numCols] = df[numCols].astype(\"int64\")\n",
    "\n",
    "    #display a sample of rows\n",
    "    df.head(len(df))"
   ],
   "outputs": [
    {
     "output_type": "stream",
     "name": "stdout",
     "text": [
      "CompletedProcess(args=['/bin/bash', '-i', '-c', 'dafny /dafnyVerify:1 /compile:0 /noCheating:1 /vcsMaxKeepGoingSplits:10 /vcsCores:12 /vcsMaxCost:1000  /vcsKeepGoingTimeout:30  /vcsFinalAssertTimeout:90  /verifySeparately /Users/franck/development/eth2.0-dafny/src/dafny/beacon/BeaconChainTypes.dfy'], returncode=0, stdout=b'/Users/franck/development/eth2.0-dafny/src/dafny/beacon/attestations/../../utils/SetHelpers.dfy(60,22): Warning: /!\\\\ No terms found to trigger on.\\n\\nDafny program verifier finished with 12 verified, 0 errors\\n')\n",
      "Dafny program verifier finished with 12 verified, 0 errors 0 <class 'str'>\n",
      "CompletedProcess(args=['/bin/bash', '-i', '-c', 'dafny /dafnyVerify:1 /compile:0 /noCheating:1 /vcsMaxKeepGoingSplits:10 /vcsCores:12 /vcsMaxCost:1000  /vcsKeepGoingTimeout:30  /vcsFinalAssertTimeout:90  /verifySeparately /Users/franck/development/eth2.0-dafny/src/dafny/beacon/Helpers.dfy'], returncode=0, stdout=b'/Users/franck/development/eth2.0-dafny/src/dafny/beacon/attestations/../../utils/SetHelpers.dfy(60,22): Warning: /!\\\\ No terms found to trigger on.\\n\\nDafny program verifier finished with 12 verified, 0 errors\\n')\n",
      "Dafny program verifier finished with 12 verified, 0 errors 0 <class 'str'>\n",
      "CompletedProcess(args=['/bin/bash', '-i', '-c', 'dafny /dafnyVerify:1 /compile:0 /noCheating:1 /vcsMaxKeepGoingSplits:10 /vcsCores:12 /vcsMaxCost:1000  /vcsKeepGoingTimeout:30  /vcsFinalAssertTimeout:90  /verifySeparately /Users/franck/development/eth2.0-dafny/src/dafny/beacon/attestations/AttestationsHelpers.dfy'], returncode=0, stdout=b'/Users/franck/development/eth2.0-dafny/src/dafny/beacon/attestations/../../utils/SetHelpers.dfy(60,22): Warning: /!\\\\ No terms found to trigger on.\\n/Users/franck/development/eth2.0-dafny/src/dafny/beacon/attestations/../gasper/GasperEBBs.dfy(91,16): Warning: /!\\\\ No terms found to trigger on.\\n/Users/franck/development/eth2.0-dafny/src/dafny/beacon/attestations/../gasper/GasperEBBs.dfy(159,16): Warning: /!\\\\ No terms found to trigger on.\\n\\nDafny program verifier finished with 24 verified, 0 errors\\n')\n",
      "Dafny program verifier finished with 24 verified, 0 errors 0 <class 'str'>\n",
      "CompletedProcess(args=['/bin/bash', '-i', '-c', 'dafny /dafnyVerify:1 /compile:0 /noCheating:1 /vcsMaxKeepGoingSplits:10 /vcsCores:12 /vcsMaxCost:1000  /vcsKeepGoingTimeout:30  /vcsFinalAssertTimeout:90  /verifySeparately /Users/franck/development/eth2.0-dafny/src/dafny/beacon/attestations/AttestationsTypes.dfy'], returncode=0, stdout=b'/Users/franck/development/eth2.0-dafny/src/dafny/beacon/attestations/../../utils/SetHelpers.dfy(60,22): Warning: /!\\\\ No terms found to trigger on.\\n\\nDafny program verifier finished with 12 verified, 0 errors\\n')\n",
      "Dafny program verifier finished with 12 verified, 0 errors 0 <class 'str'>\n",
      "CompletedProcess(args=['/bin/bash', '-i', '-c', 'dafny /dafnyVerify:1 /compile:0 /noCheating:1 /vcsMaxKeepGoingSplits:10 /vcsCores:12 /vcsMaxCost:1000  /vcsKeepGoingTimeout:30  /vcsFinalAssertTimeout:90  /verifySeparately /Users/franck/development/eth2.0-dafny/src/dafny/beacon/forkchoice/ForkChoice.dfy'], returncode=-6, stdout=b'/Users/franck/development/eth2.0-dafny/src/dafny/beacon/forkchoice/../attestations/../../utils/SetHelpers.dfy(60,22): Warning: /!\\\\ No terms found to trigger on.\\n/Users/franck/development/eth2.0-dafny/src/dafny/beacon/forkchoice/../attestations/../gasper/GasperEBBs.dfy(91,16): Warning: /!\\\\ No terms found to trigger on.\\n/Users/franck/development/eth2.0-dafny/src/dafny/beacon/forkchoice/../attestations/../gasper/GasperEBBs.dfy(159,16): Warning: /!\\\\ No terms found to trigger on.\\n')\n",
      "CompletedProcess(args=['/bin/bash', '-i', '-c', 'dafny /dafnyVerify:1 /compile:0 /noCheating:1 /vcsMaxKeepGoingSplits:10 /vcsCores:12 /vcsMaxCost:1000  /vcsKeepGoingTimeout:30  /vcsFinalAssertTimeout:90  /verifySeparately /Users/franck/development/eth2.0-dafny/src/dafny/beacon/forkchoice/ForkChoiceTypes.dfy'], returncode=0, stdout=b'/Users/franck/development/eth2.0-dafny/src/dafny/beacon/forkchoice/../attestations/../../utils/SetHelpers.dfy(60,22): Warning: /!\\\\ No terms found to trigger on.\\n\\nDafny program verifier finished with 8 verified, 0 errors\\n')\n",
      "Dafny program verifier finished with 8 verified, 0 errors 0 <class 'str'>\n",
      "CompletedProcess(args=['/bin/bash', '-i', '-c', 'dafny /dafnyVerify:1 /compile:0 /noCheating:1 /vcsMaxKeepGoingSplits:10 /vcsCores:12 /vcsMaxCost:1000  /vcsKeepGoingTimeout:30  /vcsFinalAssertTimeout:90  /verifySeparately /Users/franck/development/eth2.0-dafny/src/dafny/beacon/gasper/GasperEBBs.dfy'], returncode=0, stdout=b'/Users/franck/development/eth2.0-dafny/src/dafny/beacon/gasper/../attestations/../../utils/SetHelpers.dfy(60,22): Warning: /!\\\\ No terms found to trigger on.\\n/Users/franck/development/eth2.0-dafny/src/dafny/beacon/gasper/GasperEBBs.dfy(91,16): Warning: /!\\\\ No terms found to trigger on.\\n/Users/franck/development/eth2.0-dafny/src/dafny/beacon/gasper/GasperEBBs.dfy(159,16): Warning: /!\\\\ No terms found to trigger on.\\n\\nDafny program verifier finished with 7 verified, 0 errors\\n')\n",
      "Dafny program verifier finished with 7 verified, 0 errors 0 <class 'str'>\n",
      "CompletedProcess(args=['/bin/bash', '-i', '-c', 'dafny /dafnyVerify:1 /compile:0 /noCheating:1 /vcsMaxKeepGoingSplits:10 /vcsCores:12 /vcsMaxCost:1000  /vcsKeepGoingTimeout:30  /vcsFinalAssertTimeout:90  /verifySeparately /Users/franck/development/eth2.0-dafny/src/dafny/beacon/gasper/GasperFinalisation.dfy'], returncode=0, stdout=b'/Users/franck/development/eth2.0-dafny/src/dafny/beacon/gasper/../attestations/../../utils/SetHelpers.dfy(60,22): Warning: /!\\\\ No terms found to trigger on.\\n/Users/franck/development/eth2.0-dafny/src/dafny/beacon/gasper/./GasperEBBs.dfy(91,16): Warning: /!\\\\ No terms found to trigger on.\\n/Users/franck/development/eth2.0-dafny/src/dafny/beacon/gasper/./GasperEBBs.dfy(159,16): Warning: /!\\\\ No terms found to trigger on.\\n\\nDafny program verifier finished with 2 verified, 0 errors\\n')\n",
      "Dafny program verifier finished with 2 verified, 0 errors 0 <class 'str'>\n",
      "CompletedProcess(args=['/bin/bash', '-i', '-c', 'dafny /dafnyVerify:1 /compile:0 /noCheating:1 /vcsMaxKeepGoingSplits:10 /vcsCores:12 /vcsMaxCost:1000  /vcsKeepGoingTimeout:30  /vcsFinalAssertTimeout:90  /verifySeparately /Users/franck/development/eth2.0-dafny/src/dafny/beacon/gasper/GasperJustification.dfy'], returncode=0, stdout=b'/Users/franck/development/eth2.0-dafny/src/dafny/beacon/gasper/../attestations/../../utils/SetHelpers.dfy(60,22): Warning: /!\\\\ No terms found to trigger on.\\n/Users/franck/development/eth2.0-dafny/src/dafny/beacon/gasper/./GasperEBBs.dfy(91,16): Warning: /!\\\\ No terms found to trigger on.\\n/Users/franck/development/eth2.0-dafny/src/dafny/beacon/gasper/./GasperEBBs.dfy(159,16): Warning: /!\\\\ No terms found to trigger on.\\n\\nDafny program verifier finished with 6 verified, 0 errors\\n')\n",
      "Dafny program verifier finished with 6 verified, 0 errors 0 <class 'str'>\n",
      "CompletedProcess(args=['/bin/bash', '-i', '-c', 'dafny /dafnyVerify:1 /compile:0 /noCheating:1 /vcsMaxKeepGoingSplits:10 /vcsCores:12 /vcsMaxCost:1000  /vcsKeepGoingTimeout:30  /vcsFinalAssertTimeout:90  /verifySeparately /Users/franck/development/eth2.0-dafny/src/dafny/beacon/gasper/GasperProofs.p.dfy'], returncode=0, stdout=b'/Users/franck/development/eth2.0-dafny/src/dafny/beacon/gasper/../../utils/SetHelpers.dfy(60,22): Warning: /!\\\\ No terms found to trigger on.\\n/Users/franck/development/eth2.0-dafny/src/dafny/beacon/gasper/./GasperEBBs.dfy(91,16): Warning: /!\\\\ No terms found to trigger on.\\n/Users/franck/development/eth2.0-dafny/src/dafny/beacon/gasper/./GasperEBBs.dfy(159,16): Warning: /!\\\\ No terms found to trigger on.\\n\\nDafny program verifier finished with 12 verified, 0 errors\\n')\n",
      "Dafny program verifier finished with 12 verified, 0 errors 0 <class 'str'>\n",
      "CompletedProcess(args=['/bin/bash', '-i', '-c', 'dafny /dafnyVerify:1 /compile:0 /noCheating:1 /vcsMaxKeepGoingSplits:10 /vcsCores:12 /vcsMaxCost:1000  /vcsKeepGoingTimeout:30  /vcsFinalAssertTimeout:90  /verifySeparately /Users/franck/development/eth2.0-dafny/src/dafny/beacon/statetransition/EpochProcessing.dfy'], returncode=0, stdout=b'/Users/franck/development/eth2.0-dafny/src/dafny/beacon/statetransition/../attestations/../../utils/SetHelpers.dfy(60,22): Warning: /!\\\\ No terms found to trigger on.\\n/Users/franck/development/eth2.0-dafny/src/dafny/beacon/statetransition/../attestations/../gasper/GasperEBBs.dfy(91,16): Warning: /!\\\\ No terms found to trigger on.\\n/Users/franck/development/eth2.0-dafny/src/dafny/beacon/statetransition/../attestations/../gasper/GasperEBBs.dfy(159,16): Warning: /!\\\\ No terms found to trigger on.\\n\\nDafny program verifier finished with 1 verified, 0 errors\\n')\n",
      "Dafny program verifier finished with 1 verified, 0 errors 0 <class 'str'>\n",
      "CompletedProcess(args=['/bin/bash', '-i', '-c', 'dafny /dafnyVerify:1 /compile:0 /noCheating:1 /vcsMaxKeepGoingSplits:10 /vcsCores:12 /vcsMaxCost:1000  /vcsKeepGoingTimeout:30  /vcsFinalAssertTimeout:90  /verifySeparately /Users/franck/development/eth2.0-dafny/src/dafny/beacon/statetransition/EpochProcessing.s.dfy'], returncode=-6, stdout=b'/Users/franck/development/eth2.0-dafny/src/dafny/beacon/statetransition/../../utils/SetHelpers.dfy(60,22): Warning: /!\\\\ No terms found to trigger on.\\n/Users/franck/development/eth2.0-dafny/src/dafny/beacon/statetransition/../attestations/../gasper/GasperEBBs.dfy(91,16): Warning: /!\\\\ No terms found to trigger on.\\n/Users/franck/development/eth2.0-dafny/src/dafny/beacon/statetransition/../attestations/../gasper/GasperEBBs.dfy(159,16): Warning: /!\\\\ No terms found to trigger on.\\n')\n",
      "CompletedProcess(args=['/bin/bash', '-i', '-c', 'dafny /dafnyVerify:1 /compile:0 /noCheating:1 /vcsMaxKeepGoingSplits:10 /vcsCores:12 /vcsMaxCost:1000  /vcsKeepGoingTimeout:30  /vcsFinalAssertTimeout:90  /verifySeparately /Users/franck/development/eth2.0-dafny/src/dafny/beacon/statetransition/ProcessOperations.dfy'], returncode=0, stdout=b'/Users/franck/development/eth2.0-dafny/src/dafny/beacon/statetransition/../attestations/../../utils/SetHelpers.dfy(60,22): Warning: /!\\\\ No terms found to trigger on.\\n/Users/franck/development/eth2.0-dafny/src/dafny/beacon/statetransition/../attestations/../gasper/GasperEBBs.dfy(91,16): Warning: /!\\\\ No terms found to trigger on.\\n/Users/franck/development/eth2.0-dafny/src/dafny/beacon/statetransition/../attestations/../gasper/GasperEBBs.dfy(159,16): Warning: /!\\\\ No terms found to trigger on.\\n\\nDafny program verifier finished with 4 verified, 0 errors\\n')\n",
      "Dafny program verifier finished with 4 verified, 0 errors 0 <class 'str'>\n",
      "CompletedProcess(args=['/bin/bash', '-i', '-c', 'dafny /dafnyVerify:1 /compile:0 /noCheating:1 /vcsMaxKeepGoingSplits:10 /vcsCores:12 /vcsMaxCost:1000  /vcsKeepGoingTimeout:30  /vcsFinalAssertTimeout:90  /verifySeparately /Users/franck/development/eth2.0-dafny/src/dafny/beacon/statetransition/ProcessOperations.s.dfy'], returncode=0, stdout=b'/Users/franck/development/eth2.0-dafny/src/dafny/beacon/statetransition/../attestations/../../utils/SetHelpers.dfy(60,22): Warning: /!\\\\ No terms found to trigger on.\\n/Users/franck/development/eth2.0-dafny/src/dafny/beacon/statetransition/../attestations/../gasper/GasperEBBs.dfy(91,16): Warning: /!\\\\ No terms found to trigger on.\\n/Users/franck/development/eth2.0-dafny/src/dafny/beacon/statetransition/../attestations/../gasper/GasperEBBs.dfy(159,16): Warning: /!\\\\ No terms found to trigger on.\\n\\nDafny program verifier finished with 21 verified, 0 errors\\n')\n",
      "Dafny program verifier finished with 21 verified, 0 errors 0 <class 'str'>\n",
      "CompletedProcess(args=['/bin/bash', '-i', '-c', 'dafny /dafnyVerify:1 /compile:0 /noCheating:1 /vcsMaxKeepGoingSplits:10 /vcsCores:12 /vcsMaxCost:1000  /vcsKeepGoingTimeout:30  /vcsFinalAssertTimeout:90  /verifySeparately /Users/franck/development/eth2.0-dafny/src/dafny/beacon/statetransition/StateTransition.dfy'], returncode=4, stdout=b'/Users/franck/development/eth2.0-dafny/src/dafny/beacon/statetransition/../attestations/../../utils/SetHelpers.dfy(60,22): Warning: /!\\\\ No terms found to trigger on.\\n/Users/franck/development/eth2.0-dafny/src/dafny/beacon/statetransition/../attestations/../gasper/GasperEBBs.dfy(91,16): Warning: /!\\\\ No terms found to trigger on.\\n/Users/franck/development/eth2.0-dafny/src/dafny/beacon/statetransition/../attestations/../gasper/GasperEBBs.dfy(159,16): Warning: /!\\\\ No terms found to trigger on.\\n/Users/franck/development/eth2.0-dafny/src/dafny/beacon/statetransition/StateTransition.dfy(216,15): Error: assertion violation\\nExecution trace:\\n    (0,0): anon0\\n/Users/franck/development/eth2.0-dafny/src/dafny/beacon/statetransition/StateTransition.dfy(254,15): Error: assertion violation\\n/Users/franck/development/eth2.0-dafny/src/dafny/beacon/statetransition/StateTransition.s.dfy(195,9): Related location\\n/Users/franck/development/eth2.0-dafny/src/dafny/beacon/statetransition/StateTransition.s.dfy(195,46): Related location\\nExecution trace:\\n    (0,0): anon0\\n    (0,0): anon13_Else\\n    (0,0): anon3\\n    /Users/franck/development/eth2.0-dafny/src/dafny/beacon/statetransition/StateTransition.dfy(231,9): anon14_LoopHead\\n    (0,0): anon14_LoopBody\\n    /Users/franck/development/eth2.0-dafny/src/dafny/beacon/statetransition/StateTransition.dfy(231,9): anon15_Else\\n    (0,0): anon16_Then\\n\\nDafny program verifier finished with 19 verified, 2 errors\\n')\n",
      "Dafny program verifier finished with 19 verified, 2 errors 2 <class 'str'>\n",
      "CompletedProcess(args=['/bin/bash', '-i', '-c', 'dafny /dafnyVerify:1 /compile:0 /noCheating:1 /vcsMaxKeepGoingSplits:10 /vcsCores:12 /vcsMaxCost:1000  /vcsKeepGoingTimeout:30  /vcsFinalAssertTimeout:90  /verifySeparately /Users/franck/development/eth2.0-dafny/src/dafny/beacon/statetransition/StateTransition.s.dfy'], returncode=4, stdout=b'/Users/franck/development/eth2.0-dafny/src/dafny/beacon/statetransition/../attestations/../../utils/SetHelpers.dfy(60,22): Warning: /!\\\\ No terms found to trigger on.\\n/Users/franck/development/eth2.0-dafny/src/dafny/beacon/statetransition/../attestations/../gasper/GasperEBBs.dfy(91,16): Warning: /!\\\\ No terms found to trigger on.\\n/Users/franck/development/eth2.0-dafny/src/dafny/beacon/statetransition/../attestations/../gasper/GasperEBBs.dfy(159,16): Warning: /!\\\\ No terms found to trigger on.\\n/Users/franck/development/eth2.0-dafny/src/dafny/beacon/statetransition/StateTransition.s.dfy(180,15): Error: assertion violation\\nExecution trace:\\n    (0,0): anon0\\n    (0,0): anon10_Else\\n    (0,0): anon12_Then\\n    (0,0): anon9\\n\\nDafny program verifier finished with 9 verified, 1 error\\n')\n",
      "Dafny program verifier finished with 9 verified, 1 error 1 <class 'str'>\n",
      "CompletedProcess(args=['/bin/bash', '-i', '-c', 'dafny /dafnyVerify:1 /compile:0 /noCheating:1 /vcsMaxKeepGoingSplits:10 /vcsCores:12 /vcsMaxCost:1000  /vcsKeepGoingTimeout:30  /vcsFinalAssertTimeout:90  /verifySeparately /Users/franck/development/eth2.0-dafny/src/dafny/beacon/validators/Validators.dfy'], returncode=0, stdout=b'\\nDafny program verifier finished with 3 verified, 0 errors\\n')\n",
      "Dafny program verifier finished with 3 verified, 0 errors 0 <class 'str'>\n",
      "CompletedProcess(args=['/bin/bash', '-i', '-c', 'dafny /dafnyVerify:1 /compile:0 /noCheating:1 /vcsMaxKeepGoingSplits:10 /vcsCores:12 /vcsMaxCost:1000  /vcsKeepGoingTimeout:30  /vcsFinalAssertTimeout:90  /verifySeparately /Users/franck/development/eth2.0-dafny/src/dafny/ssz/BitListSeDes.dfy'], returncode=0, stdout=b'\\nDafny program verifier finished with 15 verified, 0 errors\\n')\n",
      "Dafny program verifier finished with 15 verified, 0 errors 0 <class 'str'>\n",
      "CompletedProcess(args=['/bin/bash', '-i', '-c', 'dafny /dafnyVerify:1 /compile:0 /noCheating:1 /vcsMaxKeepGoingSplits:10 /vcsCores:12 /vcsMaxCost:1000  /vcsKeepGoingTimeout:30  /vcsFinalAssertTimeout:90  /verifySeparately /Users/franck/development/eth2.0-dafny/src/dafny/ssz/BitVectorSeDes.dfy'], returncode=0, stdout=b'\\nDafny program verifier finished with 11 verified, 0 errors\\n')\n",
      "Dafny program verifier finished with 11 verified, 0 errors 0 <class 'str'>\n",
      "CompletedProcess(args=['/bin/bash', '-i', '-c', 'dafny /dafnyVerify:1 /compile:0 /noCheating:1 /vcsMaxKeepGoingSplits:10 /vcsCores:12 /vcsMaxCost:1000  /vcsKeepGoingTimeout:30  /vcsFinalAssertTimeout:90  /verifySeparately /Users/franck/development/eth2.0-dafny/src/dafny/ssz/BoolSeDes.dfy'], returncode=0, stdout=b'\\nDafny program verifier finished with 2 verified, 0 errors\\n')\n",
      "Dafny program verifier finished with 2 verified, 0 errors 0 <class 'str'>\n",
      "CompletedProcess(args=['/bin/bash', '-i', '-c', 'dafny /dafnyVerify:1 /compile:0 /noCheating:1 /vcsMaxKeepGoingSplits:10 /vcsCores:12 /vcsMaxCost:1000  /vcsKeepGoingTimeout:30  /vcsFinalAssertTimeout:90  /verifySeparately /Users/franck/development/eth2.0-dafny/src/dafny/ssz/BytesAndBits.dfy'], returncode=0, stdout=b'\\nDafny program verifier finished with 16 verified, 0 errors\\n')\n",
      "Dafny program verifier finished with 16 verified, 0 errors 0 <class 'str'>\n",
      "CompletedProcess(args=['/bin/bash', '-i', '-c', 'dafny /dafnyVerify:1 /compile:0 /noCheating:1 /vcsMaxKeepGoingSplits:10 /vcsCores:12 /vcsMaxCost:1000  /vcsKeepGoingTimeout:30  /vcsFinalAssertTimeout:90  /verifySeparately /Users/franck/development/eth2.0-dafny/src/dafny/ssz/Constants.dfy'], returncode=0, stdout=b'\\nDafny program verifier finished with 10 verified, 0 errors\\n')\n",
      "Dafny program verifier finished with 10 verified, 0 errors 0 <class 'str'>\n",
      "CompletedProcess(args=['/bin/bash', '-i', '-c', 'dafny /dafnyVerify:1 /compile:0 /noCheating:1 /vcsMaxKeepGoingSplits:10 /vcsCores:12 /vcsMaxCost:1000  /vcsKeepGoingTimeout:30  /vcsFinalAssertTimeout:90  /verifySeparately /Users/franck/development/eth2.0-dafny/src/dafny/ssz/IntSeDes.dfy'], returncode=0, stdout=b'\\nDafny program verifier finished with 6 verified, 0 errors\\n')\n",
      "Dafny program verifier finished with 6 verified, 0 errors 0 <class 'str'>\n",
      "CompletedProcess(args=['/bin/bash', '-i', '-c', 'dafny /dafnyVerify:1 /compile:0 /noCheating:1 /vcsMaxKeepGoingSplits:10 /vcsCores:12 /vcsMaxCost:1000  /vcsKeepGoingTimeout:30  /vcsFinalAssertTimeout:90  /verifySeparately /Users/franck/development/eth2.0-dafny/src/dafny/ssz/Serialise.dfy'], returncode=0, stdout=b'\\nDafny program verifier finished with 11 verified, 0 errors\\n')\n",
      "Dafny program verifier finished with 11 verified, 0 errors 0 <class 'str'>\n",
      "CompletedProcess(args=['/bin/bash', '-i', '-c', 'dafny /dafnyVerify:1 /compile:0 /noCheating:1 /vcsMaxKeepGoingSplits:10 /vcsCores:12 /vcsMaxCost:1000  /vcsKeepGoingTimeout:30  /vcsFinalAssertTimeout:90  /verifySeparately /Users/franck/development/eth2.0-dafny/src/dafny/utils/DafTests.dfy'], returncode=0, stdout=b'\\nDafny program verifier finished with 2 verified, 0 errors\\n')\n",
      "Dafny program verifier finished with 2 verified, 0 errors 0 <class 'str'>\n",
      "CompletedProcess(args=['/bin/bash', '-i', '-c', 'dafny /dafnyVerify:1 /compile:0 /noCheating:1 /vcsMaxKeepGoingSplits:10 /vcsCores:12 /vcsMaxCost:1000  /vcsKeepGoingTimeout:30  /vcsFinalAssertTimeout:90  /verifySeparately /Users/franck/development/eth2.0-dafny/src/dafny/utils/Eth2Types.dfy'], returncode=0, stdout=b'\\nDafny program verifier finished with 14 verified, 0 errors\\n')\n",
      "Dafny program verifier finished with 14 verified, 0 errors 0 <class 'str'>\n",
      "CompletedProcess(args=['/bin/bash', '-i', '-c', 'dafny /dafnyVerify:1 /compile:0 /noCheating:1 /vcsMaxKeepGoingSplits:10 /vcsCores:12 /vcsMaxCost:1000  /vcsKeepGoingTimeout:30  /vcsFinalAssertTimeout:90  /verifySeparately /Users/franck/development/eth2.0-dafny/src/dafny/utils/Helpers.dfy'], returncode=0, stdout=b'\\nDafny program verifier finished with 18 verified, 0 errors\\n')\n",
      "Dafny program verifier finished with 18 verified, 0 errors 0 <class 'str'>\n",
      "CompletedProcess(args=['/bin/bash', '-i', '-c', 'dafny /dafnyVerify:1 /compile:0 /noCheating:1 /vcsMaxKeepGoingSplits:10 /vcsCores:12 /vcsMaxCost:1000  /vcsKeepGoingTimeout:30  /vcsFinalAssertTimeout:90  /verifySeparately /Users/franck/development/eth2.0-dafny/src/dafny/utils/MathHelpers.dfy'], returncode=0, stdout=b'\\nDafny program verifier finished with 22 verified, 0 errors\\n')\n",
      "Dafny program verifier finished with 22 verified, 0 errors 0 <class 'str'>\n",
      "CompletedProcess(args=['/bin/bash', '-i', '-c', 'dafny /dafnyVerify:1 /compile:0 /noCheating:1 /vcsMaxKeepGoingSplits:10 /vcsCores:12 /vcsMaxCost:1000  /vcsKeepGoingTimeout:30  /vcsFinalAssertTimeout:90  /verifySeparately /Users/franck/development/eth2.0-dafny/src/dafny/utils/NativeTypes.dfy'], returncode=0, stdout=b'\\nDafny program verifier finished with 12 verified, 0 errors\\n')\n",
      "Dafny program verifier finished with 12 verified, 0 errors 0 <class 'str'>\n",
      "CompletedProcess(args=['/bin/bash', '-i', '-c', 'dafny /dafnyVerify:1 /compile:0 /noCheating:1 /vcsMaxKeepGoingSplits:10 /vcsCores:12 /vcsMaxCost:1000  /vcsKeepGoingTimeout:30  /vcsFinalAssertTimeout:90  /verifySeparately /Users/franck/development/eth2.0-dafny/src/dafny/utils/NonNativeTypes.dfy'], returncode=0, stdout=b'\\nDafny program verifier finished with 2 verified, 0 errors\\n')\n",
      "Dafny program verifier finished with 2 verified, 0 errors 0 <class 'str'>\n",
      "CompletedProcess(args=['/bin/bash', '-i', '-c', 'dafny /dafnyVerify:1 /compile:0 /noCheating:1 /vcsMaxKeepGoingSplits:10 /vcsCores:12 /vcsMaxCost:1000  /vcsKeepGoingTimeout:30  /vcsFinalAssertTimeout:90  /verifySeparately /Users/franck/development/eth2.0-dafny/src/dafny/utils/SeqHelpers.dfy'], returncode=0, stdout=b'\\nDafny program verifier finished with 14 verified, 0 errors\\n')\n",
      "Dafny program verifier finished with 14 verified, 0 errors 0 <class 'str'>\n",
      "CompletedProcess(args=['/bin/bash', '-i', '-c', 'dafny /dafnyVerify:1 /compile:0 /noCheating:1 /vcsMaxKeepGoingSplits:10 /vcsCores:12 /vcsMaxCost:1000  /vcsKeepGoingTimeout:30  /vcsFinalAssertTimeout:90  /verifySeparately /Users/franck/development/eth2.0-dafny/src/dafny/utils/SetHelpers.dfy'], returncode=0, stdout=b'/Users/franck/development/eth2.0-dafny/src/dafny/utils/SetHelpers.dfy(60,22): Warning: /!\\\\ No terms found to trigger on.\\n/Users/franck/development/eth2.0-dafny/src/dafny/utils/SetHelpers.dfy(137,17): Warning: /!\\\\ No terms found to trigger on.\\n\\nDafny program verifier finished with 9 verified, 0 errors\\n')\n",
      "Dafny program verifier finished with 9 verified, 0 errors 0 <class 'str'>\n"
     ]
    }
   ],
   "metadata": {}
  },
  {
   "cell_type": "markdown",
   "source": [
    "### Alternative format\n",
    "\n",
    "May be useful for github"
   ],
   "metadata": {}
  },
  {
   "cell_type": "code",
   "execution_count": 82,
   "source": [
    "from tabulate import tabulate\n",
    "\n",
    "print(tabulate(df, headers='keys', tablefmt='github'))\n"
   ],
   "outputs": [
    {
     "output_type": "stream",
     "name": "stdout",
     "text": [
      "|    | Files                   | Folder                 |   #LoC |   Theorems |   Implementations |   Documentation |   #Doc/#LoC (%) |   Proved |\n",
      "|----|-------------------------|------------------------|--------|------------|-------------------|-----------------|-----------------|----------|\n",
      "|  0 | BeaconChainTypes.dfy    | beacon                 |     43 |          0 |                 1 |             166 |             386 |        1 |\n",
      "|  1 | Helpers.dfy             | beacon                 |     96 |          2 |                 8 |              35 |              36 |       10 |\n",
      "|  2 | AttestationsHelpers.dfy | beacon/attestations    |    255 |          9 |                11 |             159 |              62 |       20 |\n",
      "|  3 | AttestationsTypes.dfy   | beacon/attestations    |     36 |          0 |                 1 |              89 |             247 |        1 |\n",
      "|  4 | ForkChoice.dfy          | beacon/forkchoice      |    238 |          3 |                15 |             176 |              74 |        0 |\n",
      "|  5 | ForkChoiceTypes.dfy     | beacon/forkchoice      |     87 |          3 |                 4 |              87 |             100 |        7 |\n",
      "|  6 | GasperEBBs.dfy          | beacon/gasper          |     64 |          5 |                 0 |              78 |             122 |        5 |\n",
      "|  7 | GasperFinalisation.dfy  | beacon/gasper          |     48 |          0 |                 2 |              21 |              44 |        2 |\n",
      "|  8 | GasperJustification.dfy | beacon/gasper          |     63 |          2 |                 3 |              56 |              89 |        5 |\n",
      "|  9 | GasperProofs.p.dfy      | beacon/gasper          |    268 |          2 |                 8 |             159 |              59 |       10 |\n",
      "| 10 | EpochProcessing.dfy     | beacon/statetransition |     20 |          0 |                 3 |              81 |             405 |        3 |\n",
      "| 11 | EpochProcessing.s.dfy   | beacon/statetransition |    292 |          9 |                 2 |             308 |             105 |        0 |\n",
      "| 12 | ProcessOperations.dfy   | beacon/statetransition |     60 |          0 |                 2 |              16 |              27 |        2 |\n",
      "| 13 | ProcessOperations.s.dfy | beacon/statetransition |    211 |         10 |                 7 |              95 |              45 |       17 |\n",
      "| 14 | StateTransition.dfy     | beacon/statetransition |    260 |          0 |                12 |             162 |              62 |        0 |\n",
      "| 15 | StateTransition.s.dfy   | beacon/statetransition |    136 |          9 |                 1 |              85 |              62 |        0 |\n",
      "| 16 | Validators.dfy          | beacon/validators      |     14 |          0 |                 0 |              55 |             393 |        0 |\n",
      "| 17 | BitListSeDes.dfy        | ssz                    |    260 |          7 |                 3 |              64 |              25 |       10 |\n",
      "| 18 | BitVectorSeDes.dfy      | ssz                    |    153 |          4 |                 3 |              53 |              35 |        7 |\n",
      "| 19 | BoolSeDes.dfy           | ssz                    |     20 |          0 |                 2 |               3 |              15 |        2 |\n",
      "| 20 | BytesAndBits.dfy        | ssz                    |     88 |          7 |                 6 |              44 |              50 |       13 |\n",
      "| 21 | Constants.dfy           | ssz                    |     88 |          0 |                 0 |              28 |              32 |        0 |\n",
      "| 22 | IntSeDes.dfy            | ssz                    |    128 |          2 |                 2 |              20 |              16 |        4 |\n",
      "| 23 | Serialise.dfy           | ssz                    |    512 |          3 |                 5 |              36 |               7 |        8 |\n",
      "| 24 | DafTests.dfy            | utils                  |     60 |          0 |                 4 |              25 |              42 |        4 |\n",
      "| 25 | Eth2Types.dfy           | utils                  |    218 |          1 |                 3 |              60 |              28 |        4 |\n",
      "| 26 | Helpers.dfy             | utils                  |    218 |         11 |                 3 |              64 |              29 |       14 |\n",
      "| 27 | MathHelpers.dfy         | utils                  |    193 |         10 |                 4 |              32 |              17 |       14 |\n",
      "| 28 | NativeTypes.dfy         | utils                  |     30 |          0 |                 0 |              14 |              47 |        0 |\n",
      "| 29 | NonNativeTypes.dfy      | utils                  |      6 |          0 |                 0 |               6 |             100 |        0 |\n",
      "| 30 | SeqHelpers.dfy          | utils                  |     61 |          7 |                 2 |              17 |              28 |        9 |\n",
      "| 31 | SetHelpers.dfy          | utils                  |     87 |          7 |                 0 |              27 |              31 |        7 |\n",
      "| 32 |                         | TOTAL                  |   4313 |        113 |               117 |            2321 |              54 |      179 |\n"
     ]
    }
   ],
   "metadata": {}
  },
  {
   "cell_type": "markdown",
   "source": [
    "## Group data\n",
    "\n",
    "One row per folder."
   ],
   "metadata": {}
  },
  {
   "cell_type": "code",
   "execution_count": 89,
   "source": [
    "# create a pandas dataframe to store stats relating to the dafny files\n",
    "# stats grouped by folder\n",
    "column_list = ['Folder', '#Files', '#LoC', 'Theorems', 'Implementations', \"Documentation\", \"#Doc/#LoC (%)\", \"Proved\"]\n",
    "df_grouped = pd.DataFrame(columns=column_list)\n",
    "exclude_folders_rel_path = [\"ssz\", \"utils\"]\n",
    "\n",
    "with tempfile.TemporaryDirectory() as repo_directory:\n",
    "    # subprocess.run(['/bin/bash','-c','git clone git@github.com:ConsenSys/eth2.0-dafny.git ' + repo_directory], stdout=subprocess.PIPE)\n",
    "\n",
    "    repo_directory = \"/Users/franck/development/eth2.0-dafny/src/dafny/\"\n",
    "    exclude_folders_full_path = [os.path.join(repo_directory,f) for f in exclude_folders_rel_path]\n",
    "\n",
    "    # TODO: We currently get the list of folders out of the list of files and then in the `for` loop\n",
    "    # we retrieve the list of files again for each folder. We may want to think of a more elegant \n",
    "    # implementation.\n",
    "    allFiles = getListOfDafnyFiles(repo_directory, exclude_folders_full_path)  \n",
    "\n",
    "    folders = getListOfDafnyFolders(allFiles)\n",
    "\n",
    "    for folder in folders:\n",
    "        files = getListOfDafnyFiles(folder)\n",
    "        \n",
    "        nFiles = 0\n",
    "        nLoc = 0\n",
    "        nGhost = 0\n",
    "        nNonGhost = 0\n",
    "        nDoc = 0\n",
    "        nProved = 0\n",
    "        for file in files:\n",
    "            nFiles += 1\n",
    "            nLoc += getLoC(file)\n",
    "            nGhost += getGhost(file)\n",
    "            nNonGhost += getNonGhost(file)\n",
    "            nDoc += getDocumentation(file)\n",
    "            nProved += getProved(file)\n",
    "        \n",
    "\n",
    "        df2 = pd.DataFrame([[getFolder(repo_directory, file), \n",
    "                            nFiles, \n",
    "                            nLoc ,\n",
    "                            nGhost, \n",
    "                            nNonGhost,\n",
    "                            nDoc,\n",
    "                            round(nDoc/nLoc * 100),\n",
    "                            nProved]], \n",
    "                            columns=column_list)\n",
    "        df_grouped = df_grouped.append(df2, ignore_index=True)\n",
    "\n",
    "    #display a sample of rows\n",
    "    df_grouped.head(len(df_grouped))\n"
   ],
   "outputs": [
    {
     "output_type": "stream",
     "name": "stdout",
     "text": [
      "CompletedProcess(args=['/bin/bash', '-i', '-c', 'dafny /dafnyVerify:1 /compile:0 /noCheating:1 /vcsMaxKeepGoingSplits:10 /vcsCores:12 /vcsMaxCost:1000  /vcsKeepGoingTimeout:30  /vcsFinalAssertTimeout:90  /verifySeparately /Users/franck/development/eth2.0-dafny/src/dafny/beacon/BeaconChainTypes.dfy'], returncode=0, stdout=b'/Users/franck/development/eth2.0-dafny/src/dafny/beacon/attestations/../../utils/SetHelpers.dfy(60,22): Warning: /!\\\\ No terms found to trigger on.\\n\\nDafny program verifier finished with 12 verified, 0 errors\\n')\n",
      "CompletedProcess(args=['/bin/bash', '-i', '-c', 'dafny /dafnyVerify:1 /compile:0 /noCheating:1 /vcsMaxKeepGoingSplits:10 /vcsCores:12 /vcsMaxCost:1000  /vcsKeepGoingTimeout:30  /vcsFinalAssertTimeout:90  /verifySeparately /Users/franck/development/eth2.0-dafny/src/dafny/beacon/Helpers.dfy'], returncode=0, stdout=b'/Users/franck/development/eth2.0-dafny/src/dafny/beacon/attestations/../../utils/SetHelpers.dfy(60,22): Warning: /!\\\\ No terms found to trigger on.\\n\\nDafny program verifier finished with 12 verified, 0 errors\\n')\n",
      "CompletedProcess(args=['/bin/bash', '-i', '-c', 'dafny /dafnyVerify:1 /compile:0 /noCheating:1 /vcsMaxKeepGoingSplits:10 /vcsCores:12 /vcsMaxCost:1000  /vcsKeepGoingTimeout:30  /vcsFinalAssertTimeout:90  /verifySeparately /Users/franck/development/eth2.0-dafny/src/dafny/beacon/attestations/AttestationsHelpers.dfy'], returncode=0, stdout=b'/Users/franck/development/eth2.0-dafny/src/dafny/beacon/attestations/../../utils/SetHelpers.dfy(60,22): Warning: /!\\\\ No terms found to trigger on.\\n/Users/franck/development/eth2.0-dafny/src/dafny/beacon/attestations/../gasper/GasperEBBs.dfy(91,16): Warning: /!\\\\ No terms found to trigger on.\\n/Users/franck/development/eth2.0-dafny/src/dafny/beacon/attestations/../gasper/GasperEBBs.dfy(159,16): Warning: /!\\\\ No terms found to trigger on.\\n\\nDafny program verifier finished with 24 verified, 0 errors\\n')\n",
      "CompletedProcess(args=['/bin/bash', '-i', '-c', 'dafny /dafnyVerify:1 /compile:0 /noCheating:1 /vcsMaxKeepGoingSplits:10 /vcsCores:12 /vcsMaxCost:1000  /vcsKeepGoingTimeout:30  /vcsFinalAssertTimeout:90  /verifySeparately /Users/franck/development/eth2.0-dafny/src/dafny/beacon/attestations/AttestationsTypes.dfy'], returncode=0, stdout=b'/Users/franck/development/eth2.0-dafny/src/dafny/beacon/attestations/../../utils/SetHelpers.dfy(60,22): Warning: /!\\\\ No terms found to trigger on.\\n\\nDafny program verifier finished with 12 verified, 0 errors\\n')\n",
      "CompletedProcess(args=['/bin/bash', '-i', '-c', 'dafny /dafnyVerify:1 /compile:0 /noCheating:1 /vcsMaxKeepGoingSplits:10 /vcsCores:12 /vcsMaxCost:1000  /vcsKeepGoingTimeout:30  /vcsFinalAssertTimeout:90  /verifySeparately /Users/franck/development/eth2.0-dafny/src/dafny/beacon/forkchoice/ForkChoice.dfy'], returncode=-6, stdout=b'/Users/franck/development/eth2.0-dafny/src/dafny/beacon/forkchoice/../attestations/../../utils/SetHelpers.dfy(60,22): Warning: /!\\\\ No terms found to trigger on.\\n/Users/franck/development/eth2.0-dafny/src/dafny/beacon/forkchoice/../attestations/../gasper/GasperEBBs.dfy(91,16): Warning: /!\\\\ No terms found to trigger on.\\n/Users/franck/development/eth2.0-dafny/src/dafny/beacon/forkchoice/../attestations/../gasper/GasperEBBs.dfy(159,16): Warning: /!\\\\ No terms found to trigger on.\\n')\n",
      "CompletedProcess(args=['/bin/bash', '-i', '-c', 'dafny /dafnyVerify:1 /compile:0 /noCheating:1 /vcsMaxKeepGoingSplits:10 /vcsCores:12 /vcsMaxCost:1000  /vcsKeepGoingTimeout:30  /vcsFinalAssertTimeout:90  /verifySeparately /Users/franck/development/eth2.0-dafny/src/dafny/beacon/forkchoice/ForkChoiceTypes.dfy'], returncode=0, stdout=b'/Users/franck/development/eth2.0-dafny/src/dafny/beacon/forkchoice/../attestations/../../utils/SetHelpers.dfy(60,22): Warning: /!\\\\ No terms found to trigger on.\\n\\nDafny program verifier finished with 8 verified, 0 errors\\n')\n",
      "CompletedProcess(args=['/bin/bash', '-i', '-c', 'dafny /dafnyVerify:1 /compile:0 /noCheating:1 /vcsMaxKeepGoingSplits:10 /vcsCores:12 /vcsMaxCost:1000  /vcsKeepGoingTimeout:30  /vcsFinalAssertTimeout:90  /verifySeparately /Users/franck/development/eth2.0-dafny/src/dafny/beacon/gasper/GasperEBBs.dfy'], returncode=0, stdout=b'/Users/franck/development/eth2.0-dafny/src/dafny/beacon/gasper/../attestations/../../utils/SetHelpers.dfy(60,22): Warning: /!\\\\ No terms found to trigger on.\\n/Users/franck/development/eth2.0-dafny/src/dafny/beacon/gasper/GasperEBBs.dfy(91,16): Warning: /!\\\\ No terms found to trigger on.\\n/Users/franck/development/eth2.0-dafny/src/dafny/beacon/gasper/GasperEBBs.dfy(159,16): Warning: /!\\\\ No terms found to trigger on.\\n\\nDafny program verifier finished with 7 verified, 0 errors\\n')\n",
      "CompletedProcess(args=['/bin/bash', '-i', '-c', 'dafny /dafnyVerify:1 /compile:0 /noCheating:1 /vcsMaxKeepGoingSplits:10 /vcsCores:12 /vcsMaxCost:1000  /vcsKeepGoingTimeout:30  /vcsFinalAssertTimeout:90  /verifySeparately /Users/franck/development/eth2.0-dafny/src/dafny/beacon/gasper/GasperFinalisation.dfy'], returncode=0, stdout=b'/Users/franck/development/eth2.0-dafny/src/dafny/beacon/gasper/../attestations/../../utils/SetHelpers.dfy(60,22): Warning: /!\\\\ No terms found to trigger on.\\n/Users/franck/development/eth2.0-dafny/src/dafny/beacon/gasper/./GasperEBBs.dfy(91,16): Warning: /!\\\\ No terms found to trigger on.\\n/Users/franck/development/eth2.0-dafny/src/dafny/beacon/gasper/./GasperEBBs.dfy(159,16): Warning: /!\\\\ No terms found to trigger on.\\n\\nDafny program verifier finished with 2 verified, 0 errors\\n')\n",
      "CompletedProcess(args=['/bin/bash', '-i', '-c', 'dafny /dafnyVerify:1 /compile:0 /noCheating:1 /vcsMaxKeepGoingSplits:10 /vcsCores:12 /vcsMaxCost:1000  /vcsKeepGoingTimeout:30  /vcsFinalAssertTimeout:90  /verifySeparately /Users/franck/development/eth2.0-dafny/src/dafny/beacon/gasper/GasperJustification.dfy'], returncode=0, stdout=b'/Users/franck/development/eth2.0-dafny/src/dafny/beacon/gasper/../attestations/../../utils/SetHelpers.dfy(60,22): Warning: /!\\\\ No terms found to trigger on.\\n/Users/franck/development/eth2.0-dafny/src/dafny/beacon/gasper/./GasperEBBs.dfy(91,16): Warning: /!\\\\ No terms found to trigger on.\\n/Users/franck/development/eth2.0-dafny/src/dafny/beacon/gasper/./GasperEBBs.dfy(159,16): Warning: /!\\\\ No terms found to trigger on.\\n\\nDafny program verifier finished with 6 verified, 0 errors\\n')\n",
      "CompletedProcess(args=['/bin/bash', '-i', '-c', 'dafny /dafnyVerify:1 /compile:0 /noCheating:1 /vcsMaxKeepGoingSplits:10 /vcsCores:12 /vcsMaxCost:1000  /vcsKeepGoingTimeout:30  /vcsFinalAssertTimeout:90  /verifySeparately /Users/franck/development/eth2.0-dafny/src/dafny/beacon/gasper/GasperProofs.p.dfy'], returncode=0, stdout=b'/Users/franck/development/eth2.0-dafny/src/dafny/beacon/gasper/../../utils/SetHelpers.dfy(60,22): Warning: /!\\\\ No terms found to trigger on.\\n/Users/franck/development/eth2.0-dafny/src/dafny/beacon/gasper/./GasperEBBs.dfy(91,16): Warning: /!\\\\ No terms found to trigger on.\\n/Users/franck/development/eth2.0-dafny/src/dafny/beacon/gasper/./GasperEBBs.dfy(159,16): Warning: /!\\\\ No terms found to trigger on.\\n\\nDafny program verifier finished with 12 verified, 0 errors\\n')\n",
      "CompletedProcess(args=['/bin/bash', '-i', '-c', 'dafny /dafnyVerify:1 /compile:0 /noCheating:1 /vcsMaxKeepGoingSplits:10 /vcsCores:12 /vcsMaxCost:1000  /vcsKeepGoingTimeout:30  /vcsFinalAssertTimeout:90  /verifySeparately /Users/franck/development/eth2.0-dafny/src/dafny/beacon/statetransition/EpochProcessing.dfy'], returncode=0, stdout=b'/Users/franck/development/eth2.0-dafny/src/dafny/beacon/statetransition/../attestations/../../utils/SetHelpers.dfy(60,22): Warning: /!\\\\ No terms found to trigger on.\\n/Users/franck/development/eth2.0-dafny/src/dafny/beacon/statetransition/../attestations/../gasper/GasperEBBs.dfy(91,16): Warning: /!\\\\ No terms found to trigger on.\\n/Users/franck/development/eth2.0-dafny/src/dafny/beacon/statetransition/../attestations/../gasper/GasperEBBs.dfy(159,16): Warning: /!\\\\ No terms found to trigger on.\\n\\nDafny program verifier finished with 1 verified, 0 errors\\n')\n",
      "CompletedProcess(args=['/bin/bash', '-i', '-c', 'dafny /dafnyVerify:1 /compile:0 /noCheating:1 /vcsMaxKeepGoingSplits:10 /vcsCores:12 /vcsMaxCost:1000  /vcsKeepGoingTimeout:30  /vcsFinalAssertTimeout:90  /verifySeparately /Users/franck/development/eth2.0-dafny/src/dafny/beacon/statetransition/EpochProcessing.s.dfy'], returncode=-6, stdout=b'/Users/franck/development/eth2.0-dafny/src/dafny/beacon/statetransition/../../utils/SetHelpers.dfy(60,22): Warning: /!\\\\ No terms found to trigger on.\\n/Users/franck/development/eth2.0-dafny/src/dafny/beacon/statetransition/../attestations/../gasper/GasperEBBs.dfy(91,16): Warning: /!\\\\ No terms found to trigger on.\\n/Users/franck/development/eth2.0-dafny/src/dafny/beacon/statetransition/../attestations/../gasper/GasperEBBs.dfy(159,16): Warning: /!\\\\ No terms found to trigger on.\\n')\n",
      "CompletedProcess(args=['/bin/bash', '-i', '-c', 'dafny /dafnyVerify:1 /compile:0 /noCheating:1 /vcsMaxKeepGoingSplits:10 /vcsCores:12 /vcsMaxCost:1000  /vcsKeepGoingTimeout:30  /vcsFinalAssertTimeout:90  /verifySeparately /Users/franck/development/eth2.0-dafny/src/dafny/beacon/statetransition/ProcessOperations.dfy'], returncode=0, stdout=b'/Users/franck/development/eth2.0-dafny/src/dafny/beacon/statetransition/../attestations/../../utils/SetHelpers.dfy(60,22): Warning: /!\\\\ No terms found to trigger on.\\n/Users/franck/development/eth2.0-dafny/src/dafny/beacon/statetransition/../attestations/../gasper/GasperEBBs.dfy(91,16): Warning: /!\\\\ No terms found to trigger on.\\n/Users/franck/development/eth2.0-dafny/src/dafny/beacon/statetransition/../attestations/../gasper/GasperEBBs.dfy(159,16): Warning: /!\\\\ No terms found to trigger on.\\n\\nDafny program verifier finished with 4 verified, 0 errors\\n')\n",
      "CompletedProcess(args=['/bin/bash', '-i', '-c', 'dafny /dafnyVerify:1 /compile:0 /noCheating:1 /vcsMaxKeepGoingSplits:10 /vcsCores:12 /vcsMaxCost:1000  /vcsKeepGoingTimeout:30  /vcsFinalAssertTimeout:90  /verifySeparately /Users/franck/development/eth2.0-dafny/src/dafny/beacon/statetransition/ProcessOperations.s.dfy'], returncode=0, stdout=b'/Users/franck/development/eth2.0-dafny/src/dafny/beacon/statetransition/../attestations/../../utils/SetHelpers.dfy(60,22): Warning: /!\\\\ No terms found to trigger on.\\n/Users/franck/development/eth2.0-dafny/src/dafny/beacon/statetransition/../attestations/../gasper/GasperEBBs.dfy(91,16): Warning: /!\\\\ No terms found to trigger on.\\n/Users/franck/development/eth2.0-dafny/src/dafny/beacon/statetransition/../attestations/../gasper/GasperEBBs.dfy(159,16): Warning: /!\\\\ No terms found to trigger on.\\n\\nDafny program verifier finished with 21 verified, 0 errors\\n')\n",
      "CompletedProcess(args=['/bin/bash', '-i', '-c', 'dafny /dafnyVerify:1 /compile:0 /noCheating:1 /vcsMaxKeepGoingSplits:10 /vcsCores:12 /vcsMaxCost:1000  /vcsKeepGoingTimeout:30  /vcsFinalAssertTimeout:90  /verifySeparately /Users/franck/development/eth2.0-dafny/src/dafny/beacon/statetransition/StateTransition.dfy'], returncode=4, stdout=b'/Users/franck/development/eth2.0-dafny/src/dafny/beacon/statetransition/../attestations/../../utils/SetHelpers.dfy(60,22): Warning: /!\\\\ No terms found to trigger on.\\n/Users/franck/development/eth2.0-dafny/src/dafny/beacon/statetransition/../attestations/../gasper/GasperEBBs.dfy(91,16): Warning: /!\\\\ No terms found to trigger on.\\n/Users/franck/development/eth2.0-dafny/src/dafny/beacon/statetransition/../attestations/../gasper/GasperEBBs.dfy(159,16): Warning: /!\\\\ No terms found to trigger on.\\n/Users/franck/development/eth2.0-dafny/src/dafny/beacon/statetransition/StateTransition.dfy(216,15): Error: assertion violation\\nExecution trace:\\n    (0,0): anon0\\n/Users/franck/development/eth2.0-dafny/src/dafny/beacon/statetransition/StateTransition.dfy(254,15): Error: assertion violation\\n/Users/franck/development/eth2.0-dafny/src/dafny/beacon/statetransition/StateTransition.s.dfy(195,9): Related location\\n/Users/franck/development/eth2.0-dafny/src/dafny/beacon/statetransition/StateTransition.s.dfy(195,46): Related location\\nExecution trace:\\n    (0,0): anon0\\n    (0,0): anon13_Else\\n    (0,0): anon3\\n    /Users/franck/development/eth2.0-dafny/src/dafny/beacon/statetransition/StateTransition.dfy(231,9): anon14_LoopHead\\n    (0,0): anon14_LoopBody\\n    /Users/franck/development/eth2.0-dafny/src/dafny/beacon/statetransition/StateTransition.dfy(231,9): anon15_Else\\n    (0,0): anon16_Then\\n\\nDafny program verifier finished with 19 verified, 2 errors\\n')\n",
      "CompletedProcess(args=['/bin/bash', '-i', '-c', 'dafny /dafnyVerify:1 /compile:0 /noCheating:1 /vcsMaxKeepGoingSplits:10 /vcsCores:12 /vcsMaxCost:1000  /vcsKeepGoingTimeout:30  /vcsFinalAssertTimeout:90  /verifySeparately /Users/franck/development/eth2.0-dafny/src/dafny/beacon/statetransition/StateTransition.s.dfy'], returncode=4, stdout=b'/Users/franck/development/eth2.0-dafny/src/dafny/beacon/statetransition/../attestations/../../utils/SetHelpers.dfy(60,22): Warning: /!\\\\ No terms found to trigger on.\\n/Users/franck/development/eth2.0-dafny/src/dafny/beacon/statetransition/../attestations/../gasper/GasperEBBs.dfy(91,16): Warning: /!\\\\ No terms found to trigger on.\\n/Users/franck/development/eth2.0-dafny/src/dafny/beacon/statetransition/../attestations/../gasper/GasperEBBs.dfy(159,16): Warning: /!\\\\ No terms found to trigger on.\\n/Users/franck/development/eth2.0-dafny/src/dafny/beacon/statetransition/StateTransition.s.dfy(180,15): Error: assertion violation\\nExecution trace:\\n    (0,0): anon0\\n    (0,0): anon10_Else\\n    (0,0): anon12_Then\\n    (0,0): anon9\\n\\nDafny program verifier finished with 9 verified, 1 error\\n')\n",
      "CompletedProcess(args=['/bin/bash', '-i', '-c', 'dafny /dafnyVerify:1 /compile:0 /noCheating:1 /vcsMaxKeepGoingSplits:10 /vcsCores:12 /vcsMaxCost:1000  /vcsKeepGoingTimeout:30  /vcsFinalAssertTimeout:90  /verifySeparately /Users/franck/development/eth2.0-dafny/src/dafny/beacon/validators/Validators.dfy'], returncode=0, stdout=b'\\nDafny program verifier finished with 3 verified, 0 errors\\n')\n",
      "CompletedProcess(args=['/bin/bash', '-i', '-c', 'dafny /dafnyVerify:1 /compile:0 /noCheating:1 /vcsMaxKeepGoingSplits:10 /vcsCores:12 /vcsMaxCost:1000  /vcsKeepGoingTimeout:30  /vcsFinalAssertTimeout:90  /verifySeparately /Users/franck/development/eth2.0-dafny/src/dafny/beacon/attestations/AttestationsHelpers.dfy'], returncode=0, stdout=b'/Users/franck/development/eth2.0-dafny/src/dafny/beacon/attestations/../../utils/SetHelpers.dfy(60,22): Warning: /!\\\\ No terms found to trigger on.\\n/Users/franck/development/eth2.0-dafny/src/dafny/beacon/attestations/../gasper/GasperEBBs.dfy(91,16): Warning: /!\\\\ No terms found to trigger on.\\n/Users/franck/development/eth2.0-dafny/src/dafny/beacon/attestations/../gasper/GasperEBBs.dfy(159,16): Warning: /!\\\\ No terms found to trigger on.\\n\\nDafny program verifier finished with 24 verified, 0 errors\\n')\n",
      "CompletedProcess(args=['/bin/bash', '-i', '-c', 'dafny /dafnyVerify:1 /compile:0 /noCheating:1 /vcsMaxKeepGoingSplits:10 /vcsCores:12 /vcsMaxCost:1000  /vcsKeepGoingTimeout:30  /vcsFinalAssertTimeout:90  /verifySeparately /Users/franck/development/eth2.0-dafny/src/dafny/beacon/attestations/AttestationsTypes.dfy'], returncode=0, stdout=b'/Users/franck/development/eth2.0-dafny/src/dafny/beacon/attestations/../../utils/SetHelpers.dfy(60,22): Warning: /!\\\\ No terms found to trigger on.\\n\\nDafny program verifier finished with 12 verified, 0 errors\\n')\n",
      "CompletedProcess(args=['/bin/bash', '-i', '-c', 'dafny /dafnyVerify:1 /compile:0 /noCheating:1 /vcsMaxKeepGoingSplits:10 /vcsCores:12 /vcsMaxCost:1000  /vcsKeepGoingTimeout:30  /vcsFinalAssertTimeout:90  /verifySeparately /Users/franck/development/eth2.0-dafny/src/dafny/beacon/forkchoice/ForkChoice.dfy'], returncode=-6, stdout=b'/Users/franck/development/eth2.0-dafny/src/dafny/beacon/forkchoice/../attestations/../../utils/SetHelpers.dfy(60,22): Warning: /!\\\\ No terms found to trigger on.\\n/Users/franck/development/eth2.0-dafny/src/dafny/beacon/forkchoice/../attestations/../gasper/GasperEBBs.dfy(91,16): Warning: /!\\\\ No terms found to trigger on.\\n/Users/franck/development/eth2.0-dafny/src/dafny/beacon/forkchoice/../attestations/../gasper/GasperEBBs.dfy(159,16): Warning: /!\\\\ No terms found to trigger on.\\n')\n",
      "CompletedProcess(args=['/bin/bash', '-i', '-c', 'dafny /dafnyVerify:1 /compile:0 /noCheating:1 /vcsMaxKeepGoingSplits:10 /vcsCores:12 /vcsMaxCost:1000  /vcsKeepGoingTimeout:30  /vcsFinalAssertTimeout:90  /verifySeparately /Users/franck/development/eth2.0-dafny/src/dafny/beacon/forkchoice/ForkChoiceTypes.dfy'], returncode=0, stdout=b'/Users/franck/development/eth2.0-dafny/src/dafny/beacon/forkchoice/../attestations/../../utils/SetHelpers.dfy(60,22): Warning: /!\\\\ No terms found to trigger on.\\n\\nDafny program verifier finished with 8 verified, 0 errors\\n')\n",
      "CompletedProcess(args=['/bin/bash', '-i', '-c', 'dafny /dafnyVerify:1 /compile:0 /noCheating:1 /vcsMaxKeepGoingSplits:10 /vcsCores:12 /vcsMaxCost:1000  /vcsKeepGoingTimeout:30  /vcsFinalAssertTimeout:90  /verifySeparately /Users/franck/development/eth2.0-dafny/src/dafny/beacon/gasper/GasperEBBs.dfy'], returncode=0, stdout=b'/Users/franck/development/eth2.0-dafny/src/dafny/beacon/gasper/../attestations/../../utils/SetHelpers.dfy(60,22): Warning: /!\\\\ No terms found to trigger on.\\n/Users/franck/development/eth2.0-dafny/src/dafny/beacon/gasper/GasperEBBs.dfy(91,16): Warning: /!\\\\ No terms found to trigger on.\\n/Users/franck/development/eth2.0-dafny/src/dafny/beacon/gasper/GasperEBBs.dfy(159,16): Warning: /!\\\\ No terms found to trigger on.\\n\\nDafny program verifier finished with 7 verified, 0 errors\\n')\n",
      "CompletedProcess(args=['/bin/bash', '-i', '-c', 'dafny /dafnyVerify:1 /compile:0 /noCheating:1 /vcsMaxKeepGoingSplits:10 /vcsCores:12 /vcsMaxCost:1000  /vcsKeepGoingTimeout:30  /vcsFinalAssertTimeout:90  /verifySeparately /Users/franck/development/eth2.0-dafny/src/dafny/beacon/gasper/GasperFinalisation.dfy'], returncode=0, stdout=b'/Users/franck/development/eth2.0-dafny/src/dafny/beacon/gasper/../attestations/../../utils/SetHelpers.dfy(60,22): Warning: /!\\\\ No terms found to trigger on.\\n/Users/franck/development/eth2.0-dafny/src/dafny/beacon/gasper/./GasperEBBs.dfy(91,16): Warning: /!\\\\ No terms found to trigger on.\\n/Users/franck/development/eth2.0-dafny/src/dafny/beacon/gasper/./GasperEBBs.dfy(159,16): Warning: /!\\\\ No terms found to trigger on.\\n\\nDafny program verifier finished with 2 verified, 0 errors\\n')\n",
      "CompletedProcess(args=['/bin/bash', '-i', '-c', 'dafny /dafnyVerify:1 /compile:0 /noCheating:1 /vcsMaxKeepGoingSplits:10 /vcsCores:12 /vcsMaxCost:1000  /vcsKeepGoingTimeout:30  /vcsFinalAssertTimeout:90  /verifySeparately /Users/franck/development/eth2.0-dafny/src/dafny/beacon/gasper/GasperJustification.dfy'], returncode=0, stdout=b'/Users/franck/development/eth2.0-dafny/src/dafny/beacon/gasper/../attestations/../../utils/SetHelpers.dfy(60,22): Warning: /!\\\\ No terms found to trigger on.\\n/Users/franck/development/eth2.0-dafny/src/dafny/beacon/gasper/./GasperEBBs.dfy(91,16): Warning: /!\\\\ No terms found to trigger on.\\n/Users/franck/development/eth2.0-dafny/src/dafny/beacon/gasper/./GasperEBBs.dfy(159,16): Warning: /!\\\\ No terms found to trigger on.\\n\\nDafny program verifier finished with 6 verified, 0 errors\\n')\n",
      "CompletedProcess(args=['/bin/bash', '-i', '-c', 'dafny /dafnyVerify:1 /compile:0 /noCheating:1 /vcsMaxKeepGoingSplits:10 /vcsCores:12 /vcsMaxCost:1000  /vcsKeepGoingTimeout:30  /vcsFinalAssertTimeout:90  /verifySeparately /Users/franck/development/eth2.0-dafny/src/dafny/beacon/gasper/GasperProofs.p.dfy'], returncode=0, stdout=b'/Users/franck/development/eth2.0-dafny/src/dafny/beacon/gasper/../../utils/SetHelpers.dfy(60,22): Warning: /!\\\\ No terms found to trigger on.\\n/Users/franck/development/eth2.0-dafny/src/dafny/beacon/gasper/./GasperEBBs.dfy(91,16): Warning: /!\\\\ No terms found to trigger on.\\n/Users/franck/development/eth2.0-dafny/src/dafny/beacon/gasper/./GasperEBBs.dfy(159,16): Warning: /!\\\\ No terms found to trigger on.\\n\\nDafny program verifier finished with 12 verified, 0 errors\\n')\n",
      "CompletedProcess(args=['/bin/bash', '-i', '-c', 'dafny /dafnyVerify:1 /compile:0 /noCheating:1 /vcsMaxKeepGoingSplits:10 /vcsCores:12 /vcsMaxCost:1000  /vcsKeepGoingTimeout:30  /vcsFinalAssertTimeout:90  /verifySeparately /Users/franck/development/eth2.0-dafny/src/dafny/beacon/statetransition/EpochProcessing.dfy'], returncode=0, stdout=b'/Users/franck/development/eth2.0-dafny/src/dafny/beacon/statetransition/../attestations/../../utils/SetHelpers.dfy(60,22): Warning: /!\\\\ No terms found to trigger on.\\n/Users/franck/development/eth2.0-dafny/src/dafny/beacon/statetransition/../attestations/../gasper/GasperEBBs.dfy(91,16): Warning: /!\\\\ No terms found to trigger on.\\n/Users/franck/development/eth2.0-dafny/src/dafny/beacon/statetransition/../attestations/../gasper/GasperEBBs.dfy(159,16): Warning: /!\\\\ No terms found to trigger on.\\n\\nDafny program verifier finished with 1 verified, 0 errors\\n')\n",
      "CompletedProcess(args=['/bin/bash', '-i', '-c', 'dafny /dafnyVerify:1 /compile:0 /noCheating:1 /vcsMaxKeepGoingSplits:10 /vcsCores:12 /vcsMaxCost:1000  /vcsKeepGoingTimeout:30  /vcsFinalAssertTimeout:90  /verifySeparately /Users/franck/development/eth2.0-dafny/src/dafny/beacon/statetransition/EpochProcessing.s.dfy'], returncode=-6, stdout=b'/Users/franck/development/eth2.0-dafny/src/dafny/beacon/statetransition/../../utils/SetHelpers.dfy(60,22): Warning: /!\\\\ No terms found to trigger on.\\n/Users/franck/development/eth2.0-dafny/src/dafny/beacon/statetransition/../attestations/../gasper/GasperEBBs.dfy(91,16): Warning: /!\\\\ No terms found to trigger on.\\n/Users/franck/development/eth2.0-dafny/src/dafny/beacon/statetransition/../attestations/../gasper/GasperEBBs.dfy(159,16): Warning: /!\\\\ No terms found to trigger on.\\n')\n",
      "CompletedProcess(args=['/bin/bash', '-i', '-c', 'dafny /dafnyVerify:1 /compile:0 /noCheating:1 /vcsMaxKeepGoingSplits:10 /vcsCores:12 /vcsMaxCost:1000  /vcsKeepGoingTimeout:30  /vcsFinalAssertTimeout:90  /verifySeparately /Users/franck/development/eth2.0-dafny/src/dafny/beacon/statetransition/ProcessOperations.dfy'], returncode=0, stdout=b'/Users/franck/development/eth2.0-dafny/src/dafny/beacon/statetransition/../attestations/../../utils/SetHelpers.dfy(60,22): Warning: /!\\\\ No terms found to trigger on.\\n/Users/franck/development/eth2.0-dafny/src/dafny/beacon/statetransition/../attestations/../gasper/GasperEBBs.dfy(91,16): Warning: /!\\\\ No terms found to trigger on.\\n/Users/franck/development/eth2.0-dafny/src/dafny/beacon/statetransition/../attestations/../gasper/GasperEBBs.dfy(159,16): Warning: /!\\\\ No terms found to trigger on.\\n\\nDafny program verifier finished with 4 verified, 0 errors\\n')\n",
      "CompletedProcess(args=['/bin/bash', '-i', '-c', 'dafny /dafnyVerify:1 /compile:0 /noCheating:1 /vcsMaxKeepGoingSplits:10 /vcsCores:12 /vcsMaxCost:1000  /vcsKeepGoingTimeout:30  /vcsFinalAssertTimeout:90  /verifySeparately /Users/franck/development/eth2.0-dafny/src/dafny/beacon/statetransition/ProcessOperations.s.dfy'], returncode=0, stdout=b'/Users/franck/development/eth2.0-dafny/src/dafny/beacon/statetransition/../attestations/../../utils/SetHelpers.dfy(60,22): Warning: /!\\\\ No terms found to trigger on.\\n/Users/franck/development/eth2.0-dafny/src/dafny/beacon/statetransition/../attestations/../gasper/GasperEBBs.dfy(91,16): Warning: /!\\\\ No terms found to trigger on.\\n/Users/franck/development/eth2.0-dafny/src/dafny/beacon/statetransition/../attestations/../gasper/GasperEBBs.dfy(159,16): Warning: /!\\\\ No terms found to trigger on.\\n\\nDafny program verifier finished with 21 verified, 0 errors\\n')\n",
      "CompletedProcess(args=['/bin/bash', '-i', '-c', 'dafny /dafnyVerify:1 /compile:0 /noCheating:1 /vcsMaxKeepGoingSplits:10 /vcsCores:12 /vcsMaxCost:1000  /vcsKeepGoingTimeout:30  /vcsFinalAssertTimeout:90  /verifySeparately /Users/franck/development/eth2.0-dafny/src/dafny/beacon/statetransition/StateTransition.dfy'], returncode=4, stdout=b'/Users/franck/development/eth2.0-dafny/src/dafny/beacon/statetransition/../attestations/../../utils/SetHelpers.dfy(60,22): Warning: /!\\\\ No terms found to trigger on.\\n/Users/franck/development/eth2.0-dafny/src/dafny/beacon/statetransition/../attestations/../gasper/GasperEBBs.dfy(91,16): Warning: /!\\\\ No terms found to trigger on.\\n/Users/franck/development/eth2.0-dafny/src/dafny/beacon/statetransition/../attestations/../gasper/GasperEBBs.dfy(159,16): Warning: /!\\\\ No terms found to trigger on.\\n/Users/franck/development/eth2.0-dafny/src/dafny/beacon/statetransition/StateTransition.dfy(216,15): Error: assertion violation\\nExecution trace:\\n    (0,0): anon0\\n/Users/franck/development/eth2.0-dafny/src/dafny/beacon/statetransition/StateTransition.dfy(254,15): Error: assertion violation\\n/Users/franck/development/eth2.0-dafny/src/dafny/beacon/statetransition/StateTransition.s.dfy(195,9): Related location\\n/Users/franck/development/eth2.0-dafny/src/dafny/beacon/statetransition/StateTransition.s.dfy(195,46): Related location\\nExecution trace:\\n    (0,0): anon0\\n    (0,0): anon13_Else\\n    (0,0): anon3\\n    /Users/franck/development/eth2.0-dafny/src/dafny/beacon/statetransition/StateTransition.dfy(231,9): anon14_LoopHead\\n    (0,0): anon14_LoopBody\\n    /Users/franck/development/eth2.0-dafny/src/dafny/beacon/statetransition/StateTransition.dfy(231,9): anon15_Else\\n    (0,0): anon16_Then\\n/Users/franck/development/eth2.0-dafny/src/dafny/beacon/statetransition/StateTransition.dfy(254,15): Error: assertion violation\\n/Users/franck/development/eth2.0-dafny/src/dafny/beacon/statetransition/StateTransition.s.dfy(197,48): Related location\\nExecution trace:\\n    (0,0): anon0\\n    (0,0): anon13_Else\\n    (0,0): anon3\\n    /Users/franck/development/eth2.0-dafny/src/dafny/beacon/statetransition/StateTransition.dfy(231,9): anon14_LoopHead\\n    (0,0): anon14_LoopBody\\n    /Users/franck/development/eth2.0-dafny/src/dafny/beacon/statetransition/StateTransition.dfy(231,9): anon15_Else\\n    (0,0): anon16_Then\\n/Users/franck/development/eth2.0-dafny/src/dafny/beacon/statetransition/StateTransition.dfy(254,15): Error: assertion violation\\n/Users/franck/development/eth2.0-dafny/src/dafny/beacon/statetransition/StateTransition.s.dfy(198,79): Related location\\nExecution trace:\\n    (0,0): anon0\\n    (0,0): anon13_Else\\n    (0,0): anon3\\n    /Users/franck/development/eth2.0-dafny/src/dafny/beacon/statetransition/StateTransition.dfy(231,9): anon14_LoopHead\\n    (0,0): anon14_LoopBody\\n    /Users/franck/development/eth2.0-dafny/src/dafny/beacon/statetransition/StateTransition.dfy(231,9): anon15_Else\\n    (0,0): anon16_Then\\n/Users/franck/development/eth2.0-dafny/src/dafny/beacon/statetransition/StateTransition.dfy(254,15): Error: assertion violation\\n/Users/franck/development/eth2.0-dafny/src/dafny/beacon/statetransition/StateTransition.s.dfy(200,79): Related location\\nExecution trace:\\n    (0,0): anon0\\n    (0,0): anon13_Else\\n    (0,0): anon3\\n    /Users/franck/development/eth2.0-dafny/src/dafny/beacon/statetransition/StateTransition.dfy(231,9): anon14_LoopHead\\n    (0,0): anon14_LoopBody\\n    /Users/franck/development/eth2.0-dafny/src/dafny/beacon/statetransition/StateTransition.dfy(231,9): anon15_Else\\n    (0,0): anon16_Then\\n\\nDafny program verifier finished with 19 verified, 5 errors\\n')\n",
      "CompletedProcess(args=['/bin/bash', '-i', '-c', 'dafny /dafnyVerify:1 /compile:0 /noCheating:1 /vcsMaxKeepGoingSplits:10 /vcsCores:12 /vcsMaxCost:1000  /vcsKeepGoingTimeout:30  /vcsFinalAssertTimeout:90  /verifySeparately /Users/franck/development/eth2.0-dafny/src/dafny/beacon/statetransition/StateTransition.s.dfy'], returncode=4, stdout=b'/Users/franck/development/eth2.0-dafny/src/dafny/beacon/statetransition/../attestations/../../utils/SetHelpers.dfy(60,22): Warning: /!\\\\ No terms found to trigger on.\\n/Users/franck/development/eth2.0-dafny/src/dafny/beacon/statetransition/../attestations/../gasper/GasperEBBs.dfy(91,16): Warning: /!\\\\ No terms found to trigger on.\\n/Users/franck/development/eth2.0-dafny/src/dafny/beacon/statetransition/../attestations/../gasper/GasperEBBs.dfy(159,16): Warning: /!\\\\ No terms found to trigger on.\\n/Users/franck/development/eth2.0-dafny/src/dafny/beacon/statetransition/StateTransition.s.dfy(180,15): Error: assertion violation\\nExecution trace:\\n    (0,0): anon0\\n    (0,0): anon10_Else\\n    (0,0): anon12_Then\\n    (0,0): anon9\\n\\nDafny program verifier finished with 9 verified, 1 error\\n')\n",
      "CompletedProcess(args=['/bin/bash', '-i', '-c', 'dafny /dafnyVerify:1 /compile:0 /noCheating:1 /vcsMaxKeepGoingSplits:10 /vcsCores:12 /vcsMaxCost:1000  /vcsKeepGoingTimeout:30  /vcsFinalAssertTimeout:90  /verifySeparately /Users/franck/development/eth2.0-dafny/src/dafny/beacon/validators/Validators.dfy'], returncode=0, stdout=b'\\nDafny program verifier finished with 3 verified, 0 errors\\n')\n"
     ]
    }
   ],
   "metadata": {}
  },
  {
   "cell_type": "markdown",
   "source": [
    "### Print dataframe to .csv, .tex and .pdf"
   ],
   "metadata": {}
  },
  {
   "cell_type": "code",
   "execution_count": 88,
   "source": [
    "# create filenames that include the current data string\n",
    "timestr = time.strftime(\"%Y-%m-%d-%H:%M\")\n",
    "rawfile = 'data' + timestr + '.csv'\n",
    "grouped_rawfile = 'dataGrouped' + timestr + '.csv'\n",
    "filename = 'data' + timestr + '.tex'\n",
    "pdffile = 'data' + timestr + '.pdf'\n",
    "\n",
    "# check if data directory already exists and create if necessary\n",
    "if not os.path.exists('data'):\n",
    "    os.makedirs('data')\n",
    "\n",
    "#print to csv file without an index\n",
    "df.to_csv(\"data/\" + rawfile, index = False)\n",
    "df_grouped.to_csv(\"data/\" + grouped_rawfile, index = False)\n",
    "\n",
    "#print to pdf via latex\n",
    "template = r'''\\documentclass[a4paper, 12pt]{{article}}\n",
    "\\usepackage[landscape]{{geometry}}\n",
    "\\usepackage{{booktabs}}\n",
    "\\begin{{document}}\n",
    "\\section*{{https://github.com/ConsenSys/eth2.0-dafny}}\n",
    "\\subsection*{{Data collected: {}}}\n",
    "\\scriptsize\n",
    "{}\n",
    "\\vspace{{2em}}\n",
    "{}\n",
    "\\end{{document}}\n",
    "'''\n",
    "\n",
    "with open(filename, 'w') as f:\n",
    "    f.write(template.format(time.strftime(\"%Y-%m-%d-%H:%M\"), df.to_latex(index=False), df_grouped.to_latex(index=True)))\n",
    "\n",
    "subprocess.call(['pdflatex', filename])\n",
    "\n",
    "# remove surplus files and move .csv, .tex and .pdf files to the data folder\n",
    "os.remove('data' + timestr + '.log')\n",
    "os.remove('data' + timestr + '.aux')\n",
    "\n",
    "shutil.move(filename, \"data/\" + filename)\n",
    "shutil.move(pdffile, \"data/\" + pdffile)"
   ],
   "outputs": [
    {
     "output_type": "execute_result",
     "data": {
      "text/plain": [
       "'data/data2021-08-03-07:52.pdf'"
      ]
     },
     "metadata": {},
     "execution_count": 88
    }
   ],
   "metadata": {}
  }
 ],
 "metadata": {
  "language_info": {
   "name": "python",
   "version": "3.8.6",
   "mimetype": "text/x-python",
   "codemirror_mode": {
    "name": "ipython",
    "version": 3
   },
   "pygments_lexer": "ipython3",
   "nbconvert_exporter": "python",
   "file_extension": ".py"
  },
  "orig_nbformat": 2,
  "file_extension": ".py",
  "mimetype": "text/x-python",
  "name": "python",
  "npconvert_exporter": "python",
  "pygments_lexer": "ipython3",
  "version": 3,
  "kernelspec": {
   "name": "python3",
   "display_name": "Python 3.8.6 64-bit"
  },
  "interpreter": {
   "hash": "aee8b7b246df8f9039afb4144a1f6fd8d2ca17a180786b69acc140d282b71a49"
  }
 },
 "nbformat": 4,
 "nbformat_minor": 2
}