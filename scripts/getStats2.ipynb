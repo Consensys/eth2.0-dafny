{
 "nbformat": 4,
 "nbformat_minor": 2,
 "metadata": {
  "language_info": {
   "name": "python",
   "codemirror_mode": {
    "name": "ipython",
    "version": 3
   },
   "version": "3.7.3-final"
  },
  "orig_nbformat": 2,
  "file_extension": ".py",
  "mimetype": "text/x-python",
  "name": "python",
  "npconvert_exporter": "python",
  "pygments_lexer": "ipython3",
  "version": 3,
  "kernelspec": {
   "name": "python37364bit72dfc5626a924633aeb96a8e35da9f04",
   "display_name": "Python 3.7.3 64-bit",
   "language": "python"
  }
 },
 "cells": [
  {
   "cell_type": "markdown",
   "metadata": {},
   "source": [
    "/*\n",
    " * Copyright 2021 ConsenSys AG.\n",
    " *\n",
    " * Licensed under the Apache License, Version 2.0 (the \"License\"); you may \n",
    " * not use this file except in compliance with the License. You may obtain \n",
    " * a copy of the License at http://www.apache.org/licenses/LICENSE-2.0\n",
    " *\n",
    " * Unless required by applicable law or agreed to in writing, software dis-\n",
    " * tributed under the License is distributed on an \"AS IS\" BASIS, WITHOUT \n",
    " * WARRANTIES OR CONDITIONS OF ANY KIND, either express or implied. See the \n",
    " * License for the specific language governing permissions and limitations \n",
    " * under the License.\n",
    " */"
   ]
  },
  {
   "cell_type": "markdown",
   "metadata": {},
   "source": [
    "# Notebook description\n",
    "\n",
    "This notebook contains some basic processing to automate the collection of statistics relating to the Dafny files.\n",
    "By creating functions to perform analysis of Dafny files, additional results can easily be added to the pandas dataframe.\n",
    "The use of a pandas dataframe provides many options for visualisation and the data can easily by stored in a csv.\n",
    "The data can also easily be supplemented with timestamps to faciliate time series analysis.\n",
    "\n",
    "This file is a working file and will be converted to a python script in due course."
   ]
  },
  {
   "cell_type": "markdown",
   "metadata": {},
   "source": [
    "# TODO: Reformat function documentation to standard style used within this repo"
   ]
  },
  {
   "cell_type": "markdown",
   "metadata": {},
   "source": [
    "## Libraries"
   ]
  },
  {
   "cell_type": "code",
   "execution_count": 2,
   "metadata": {},
   "outputs": [],
   "source": [
    "# import libraries\n",
    "import os\n",
    "import subprocess\n",
    "\n",
    "import pandas as pd\n",
    "import re\n",
    "import numpy as np\n",
    "\n",
    "import time\n",
    "import shutil"
   ]
  },
  {
   "cell_type": "markdown",
   "metadata": {},
   "source": [
    "## File processing functions"
   ]
  },
  {
   "cell_type": "code",
   "execution_count": 3,
   "metadata": {},
   "outputs": [],
   "source": [
    "# find *.dfy files, within a given local repo path\n",
    "# this function will search all subfolders of dirName\n",
    "# a sorted list of files is returned\n",
    "def getListOfDafnyFiles(dirName,exclude_folders=[]):\n",
    "    listOfFile = os.listdir(dirName)\n",
    "    allFiles = list()\n",
    "    for entry in listOfFile:\n",
    "        fullPath = os.path.join(dirName, entry)\n",
    "        # if entry is a directory then append the list of files in this directory to allFiles\n",
    "        if os.path.isdir(fullPath):\n",
    "            if os.path.abspath(fullPath) not in exclude_folders:\n",
    "                allFiles = allFiles + getListOfDafnyFiles(fullPath, exclude_folders)\n",
    "        # else append file only if it is a Dafny file\n",
    "        else:\n",
    "            if entry.endswith(\".dfy\"):\n",
    "                allFiles.append(fullPath)\n",
    "    return sorted(allFiles)   "
   ]
  },
  {
   "cell_type": "code",
   "execution_count": 4,
   "metadata": {},
   "outputs": [],
   "source": [
    "# find folders within the repo that have *.dfy files\n",
    "# a sorted list of folders is returned (i.e. full path of each folder)\n",
    "def getListOfDafnyFolders(dafnyFiles):\n",
    "    listOfDirectories = list()\n",
    "    for file in dafnyFiles:\n",
    "        listOfDirectories.append(os.path.dirname(file))\n",
    "    return sorted(list(set(listOfDirectories)))"
   ]
  },
  {
   "cell_type": "code",
   "execution_count": 5,
   "metadata": {},
   "outputs": [],
   "source": [
    "# get folder for an individual dafny file\n",
    "# i.e. for the full path of a dafny file, the filename and repo path are striped\n",
    "def getFolder(repo, dafny_file):\n",
    "    repo_path, folder = os.path.dirname(dafny_file).split(repo,1)\n",
    "    return folder"
   ]
  },
  {
   "cell_type": "markdown",
   "metadata": {},
   "source": [
    "### Test file processing functions"
   ]
  },
  {
   "cell_type": "code",
   "execution_count": 6,
   "metadata": {},
   "outputs": [
    {
     "output_type": "stream",
     "name": "stdout",
     "text": [
      "Test getListOfDafnyFiles: \n/Users/joannefuller/Documents/vscode/eth2.0-dafny/src/dafny/beacon/BeaconChainTypes.dfy\n/Users/joannefuller/Documents/vscode/eth2.0-dafny/src/dafny/beacon/Helpers.dfy\n/Users/joannefuller/Documents/vscode/eth2.0-dafny/src/dafny/beacon/attestations/AttestationsHelpers.dfy\n/Users/joannefuller/Documents/vscode/eth2.0-dafny/src/dafny/beacon/attestations/AttestationsTypes.dfy\n/Users/joannefuller/Documents/vscode/eth2.0-dafny/src/dafny/beacon/forkchoice/ForkChoice.dfy\n/Users/joannefuller/Documents/vscode/eth2.0-dafny/src/dafny/beacon/forkchoice/ForkChoiceHelpers.dfy\n/Users/joannefuller/Documents/vscode/eth2.0-dafny/src/dafny/beacon/forkchoice/ForkChoiceProofs.p.dfy\n/Users/joannefuller/Documents/vscode/eth2.0-dafny/src/dafny/beacon/forkchoice/ForkChoiceTypes.dfy\n/Users/joannefuller/Documents/vscode/eth2.0-dafny/src/dafny/beacon/forkchoice/ForkChoicehelpers.p.dfy\n/Users/joannefuller/Documents/vscode/eth2.0-dafny/src/dafny/beacon/helpers/Crypto.dfy\n/Users/joannefuller/Documents/vscode/eth2.0-dafny/src/dafny/beacon/helpers/Math.dfy\n/Users/joannefuller/Documents/vscode/eth2.0-dafny/src/dafny/beacon/helpers/helper_lemmas/MathHelper.dfy\n/Users/joannefuller/Documents/vscode/eth2.0-dafny/src/dafny/beacon/statetransition/EpochProcessing.dfy\n/Users/joannefuller/Documents/vscode/eth2.0-dafny/src/dafny/beacon/statetransition/EpochProcessing.s.dfy\n/Users/joannefuller/Documents/vscode/eth2.0-dafny/src/dafny/beacon/statetransition/ProcessOperations.dfy\n/Users/joannefuller/Documents/vscode/eth2.0-dafny/src/dafny/beacon/statetransition/ProcessOperations.p.dfy\n/Users/joannefuller/Documents/vscode/eth2.0-dafny/src/dafny/beacon/statetransition/ProcessOperations.s.dfy\n/Users/joannefuller/Documents/vscode/eth2.0-dafny/src/dafny/beacon/statetransition/StateTransition.dfy\n/Users/joannefuller/Documents/vscode/eth2.0-dafny/src/dafny/beacon/statetransition/StateTransition.s.dfy\n/Users/joannefuller/Documents/vscode/eth2.0-dafny/src/dafny/beacon/statetransition/tempProcessOperations.dfy\n/Users/joannefuller/Documents/vscode/eth2.0-dafny/src/dafny/beacon/statetransition/tempv2ProcessOperations.dfy\n/Users/joannefuller/Documents/vscode/eth2.0-dafny/src/dafny/beacon/validators/Validators.dfy\n/Users/joannefuller/Documents/vscode/eth2.0-dafny/src/dafny/libraries/reals/div.r.dfy\n/Users/joannefuller/Documents/vscode/eth2.0-dafny/src/dafny/libraries/reals/mul.r.dfy\n/Users/joannefuller/Documents/vscode/eth2.0-dafny/src/dafny/merkle/Merkleise.dfy\n/Users/joannefuller/Documents/vscode/eth2.0-dafny/src/dafny/ssz/BitListSeDes.dfy\n/Users/joannefuller/Documents/vscode/eth2.0-dafny/src/dafny/ssz/BitVectorSeDes.dfy\n/Users/joannefuller/Documents/vscode/eth2.0-dafny/src/dafny/ssz/BoolSeDes.dfy\n/Users/joannefuller/Documents/vscode/eth2.0-dafny/src/dafny/ssz/BytesAndBits.dfy\n/Users/joannefuller/Documents/vscode/eth2.0-dafny/src/dafny/ssz/Constants.dfy\n/Users/joannefuller/Documents/vscode/eth2.0-dafny/src/dafny/ssz/IntSeDes.dfy\n/Users/joannefuller/Documents/vscode/eth2.0-dafny/src/dafny/ssz/Serialise.dfy\n/Users/joannefuller/Documents/vscode/eth2.0-dafny/src/dafny/utils/DafTests.dfy\n/Users/joannefuller/Documents/vscode/eth2.0-dafny/src/dafny/utils/Eth2Types.dfy\n/Users/joannefuller/Documents/vscode/eth2.0-dafny/src/dafny/utils/Helpers.dfy\n/Users/joannefuller/Documents/vscode/eth2.0-dafny/src/dafny/utils/MathHelpers.dfy\n/Users/joannefuller/Documents/vscode/eth2.0-dafny/src/dafny/utils/NativeTypes.dfy\n/Users/joannefuller/Documents/vscode/eth2.0-dafny/src/dafny/utils/NonNativeTypes.dfy\n/Users/joannefuller/Documents/vscode/eth2.0-dafny/src/dafny/utils/SeqHelpers.dfy\n/Users/joannefuller/Documents/vscode/eth2.0-dafny/src/dafny/utils/SetHelpers.dfy\n/Users/joannefuller/Documents/vscode/eth2.0-dafny/test/dafny/merkle/Merkleise.test.dfy\n/Users/joannefuller/Documents/vscode/eth2.0-dafny/test/dafny/merkle/third_party_implementations/TestBitlistMerkleise.dfy\n/Users/joannefuller/Documents/vscode/eth2.0-dafny/test/dafny/merkle/third_party_implementations/TestBitvectorMerkleise.dfy\n/Users/joannefuller/Documents/vscode/eth2.0-dafny/test/dafny/merkle/third_party_implementations/TestBytesMerkleise.dfy\n/Users/joannefuller/Documents/vscode/eth2.0-dafny/test/dafny/merkle/third_party_implementations/TestListOfBytes32Merkleise.dfy\n/Users/joannefuller/Documents/vscode/eth2.0-dafny/test/dafny/merkle/third_party_implementations/TestListOfUint64Merkleise.dfy\n/Users/joannefuller/Documents/vscode/eth2.0-dafny/test/dafny/merkle/third_party_implementations/TestVectorOfUint64Merkleise.dfy\n/Users/joannefuller/Documents/vscode/eth2.0-dafny/test/dafny/merkle/third_party_implementations/ThirdPartyMerkleisation.dfy\n/Users/joannefuller/Documents/vscode/eth2.0-dafny/test/dafny/ssz/BitListSeDes.tests.dfy\n/Users/joannefuller/Documents/vscode/eth2.0-dafny/test/dafny/ssz/UintSeDes.tests.dfy\n/Users/joannefuller/Documents/vscode/eth2.0-dafny/test/dafny/test_utils/StringConversions.dfy\n/Users/joannefuller/Documents/vscode/eth2.0-dafny/test/dafny/utils/MathHelpers.tests.dfy\n/Users/joannefuller/Documents/vscode/eth2.0-dafny/test/lowlevel_modules/CommandLine.dfy\n/Users/joannefuller/Documents/vscode/eth2.0-dafny/test/lowlevel_modules/Rand.dfy\nLength of returned list:  54\nTest getListOfDafnyFolders: \n/Users/joannefuller/Documents/vscode/eth2.0-dafny/src/dafny/beacon\n/Users/joannefuller/Documents/vscode/eth2.0-dafny/src/dafny/beacon/attestations\n/Users/joannefuller/Documents/vscode/eth2.0-dafny/src/dafny/beacon/forkchoice\n/Users/joannefuller/Documents/vscode/eth2.0-dafny/src/dafny/beacon/helpers\n/Users/joannefuller/Documents/vscode/eth2.0-dafny/src/dafny/beacon/helpers/helper_lemmas\n/Users/joannefuller/Documents/vscode/eth2.0-dafny/src/dafny/beacon/statetransition\n/Users/joannefuller/Documents/vscode/eth2.0-dafny/src/dafny/beacon/validators\n/Users/joannefuller/Documents/vscode/eth2.0-dafny/src/dafny/libraries/reals\n/Users/joannefuller/Documents/vscode/eth2.0-dafny/src/dafny/merkle\n/Users/joannefuller/Documents/vscode/eth2.0-dafny/src/dafny/ssz\n/Users/joannefuller/Documents/vscode/eth2.0-dafny/src/dafny/utils\n/Users/joannefuller/Documents/vscode/eth2.0-dafny/test/dafny/merkle\n/Users/joannefuller/Documents/vscode/eth2.0-dafny/test/dafny/merkle/third_party_implementations\n/Users/joannefuller/Documents/vscode/eth2.0-dafny/test/dafny/ssz\n/Users/joannefuller/Documents/vscode/eth2.0-dafny/test/dafny/test_utils\n/Users/joannefuller/Documents/vscode/eth2.0-dafny/test/dafny/utils\n/Users/joannefuller/Documents/vscode/eth2.0-dafny/test/lowlevel_modules\nLength of returned list:  17\nTest getFolder for each file in files: \nsrc/dafny/beacon\nsrc/dafny/beacon\nsrc/dafny/beacon/attestations\nsrc/dafny/beacon/attestations\nsrc/dafny/beacon/forkchoice\nsrc/dafny/beacon/forkchoice\nsrc/dafny/beacon/forkchoice\nsrc/dafny/beacon/forkchoice\nsrc/dafny/beacon/forkchoice\nsrc/dafny/beacon/helpers\nsrc/dafny/beacon/helpers\nsrc/dafny/beacon/helpers/helper_lemmas\nsrc/dafny/beacon/statetransition\nsrc/dafny/beacon/statetransition\nsrc/dafny/beacon/statetransition\nsrc/dafny/beacon/statetransition\nsrc/dafny/beacon/statetransition\nsrc/dafny/beacon/statetransition\nsrc/dafny/beacon/statetransition\nsrc/dafny/beacon/statetransition\nsrc/dafny/beacon/statetransition\nsrc/dafny/beacon/validators\nsrc/dafny/libraries/reals\nsrc/dafny/libraries/reals\nsrc/dafny/merkle\nsrc/dafny/ssz\nsrc/dafny/ssz\nsrc/dafny/ssz\nsrc/dafny/ssz\nsrc/dafny/ssz\nsrc/dafny/ssz\nsrc/dafny/ssz\nsrc/dafny/utils\nsrc/dafny/utils\nsrc/dafny/utils\nsrc/dafny/utils\nsrc/dafny/utils\nsrc/dafny/utils\nsrc/dafny/utils\nsrc/dafny/utils\ntest/dafny/merkle\ntest/dafny/merkle/third_party_implementations\ntest/dafny/merkle/third_party_implementations\ntest/dafny/merkle/third_party_implementations\ntest/dafny/merkle/third_party_implementations\ntest/dafny/merkle/third_party_implementations\ntest/dafny/merkle/third_party_implementations\ntest/dafny/merkle/third_party_implementations\ntest/dafny/ssz\ntest/dafny/ssz\ntest/dafny/test_utils\ntest/dafny/utils\ntest/lowlevel_modules\ntest/lowlevel_modules\n"
     ]
    }
   ],
   "source": [
    "# test the getListOfDafnyFiles, getListOfDafnyFolders and getFolder functions\n",
    "# local repo path needs to be set prior to running the tests\n",
    "repo_directory = \"/Users/joannefuller/Documents/vscode/eth2.0-dafny/\"\n",
    "exclude_folders_rel_path = [\"src/dafny/libraries/integers\"]\n",
    "exclude_folders_full_path = [os.path.join(repo_directory,f) for f in exclude_folders_rel_path]\n",
    "\n",
    "\n",
    "print(\"Test getListOfDafnyFiles: \")\n",
    "files = getListOfDafnyFiles(repo_directory, exclude_folders_full_path)\n",
    "for i in files:\n",
    "    print(i)\n",
    "print(\"Length of returned list: \", len(files))\n",
    "\n",
    "print(\"Test getListOfDafnyFolders: \")\n",
    "directories = getListOfDafnyFolders(files)\n",
    "for i in directories:\n",
    "    print(i)\n",
    "print(\"Length of returned list: \", len(directories))\n",
    "\n",
    "print(\"Test getFolder for each file in files: \")\n",
    "for file in files:\n",
    "    print(getFolder(repo_directory, file))"
   ]
  },
  {
   "cell_type": "markdown",
   "metadata": {},
   "source": [
    "## Functions to collect statistics"
   ]
  },
  {
   "cell_type": "code",
   "execution_count": 7,
   "metadata": {},
   "outputs": [],
   "source": [
    "# count the number of \"lemmas\" in a given dafny file\n",
    "# this function uses a subprocess call\n",
    "# an alternative method would be to read and search the file directly\n",
    "def getLemmas(dafny_file):\n",
    "    cmd = \"cat \" + dafny_file +\"| grep lemma | wc -l\"\n",
    "    result = subprocess.run(['/bin/bash', '-i', '-c', cmd], stdout=subprocess.PIPE)\n",
    "    return result.stdout.strip().decode('ascii')"
   ]
  },
  {
   "cell_type": "code",
   "execution_count": 8,
   "metadata": {},
   "outputs": [],
   "source": [
    "# count the number of \"function methods\" in a given dafny file\n",
    "# this function uses a subprocess call\n",
    "# an alternative method would be to read and search the file directly\n",
    "def getFunctions(dafny_file):\n",
    "    cmd = \"cat \" + dafny_file +\"| grep function | grep method | wc -l\"\n",
    "    result = subprocess.run(['/bin/bash', '-i', '-c', cmd], stdout=subprocess.PIPE)\n",
    "    return result.stdout.strip().decode('ascii')"
   ]
  },
  {
   "cell_type": "code",
   "execution_count": 9,
   "metadata": {},
   "outputs": [],
   "source": [
    "# count the number of ghost (= function and lemmas) processes\n",
    "# ignores function methods\n",
    "# to be referred to as \"Theorems\" in the data display\n",
    "def getGhost(dafny_file):\n",
    "    tmp_file = open(dafny_file, \"r\")\n",
    "    count = 0\n",
    "    for line in tmp_file.readlines():\n",
    "        if line.strip().startswith((\"function\", \"lemma\")):\n",
    "            if not line.strip().startswith(\"function method\"):\n",
    "                count += 1\n",
    "                #print(line)\n",
    "    tmp_file.close()\n",
    "    return count"
   ]
  },
  {
   "cell_type": "code",
   "execution_count": 10,
   "metadata": {},
   "outputs": [],
   "source": [
    "# count the number of non-ghost ()= function methods and methods and predicates) processes\n",
    "# to be referred to as \"Implementations\" in the data display\n",
    "def getNonGhost(dafny_file):\n",
    "    tmp_file = open(dafny_file, \"r\")\n",
    "    count = 0\n",
    "    for line in tmp_file.readlines():\n",
    "        if line.strip().startswith((\"function method\", \"method\", \"predicate\")):\n",
    "            count += 1\n",
    "            #print(line)\n",
    "\n",
    "    tmp_file.close()\n",
    "    return count"
   ]
  },
  {
   "cell_type": "code",
   "execution_count": 11,
   "metadata": {},
   "outputs": [],
   "source": [
    "# count the number of lines of code\n",
    "# the count occurs after the dafny file is printed used the compiler\n",
    "# the count also occurs after this output has been cleaned\n",
    "def getLoC(dafny_file):\n",
    "    show_ghost = True\n",
    "    executable = \"dafny\"\n",
    "    args  = [] \n",
    "    args += ['/rprint:-']\n",
    "    args += [\"/noAutoReq\"]\n",
    "    args += [\"/noVerify\"]\n",
    "    args += [\"/nologo\"]\n",
    "    args += [\"/env:0\"]\n",
    "    if show_ghost:\n",
    "        args += [\"/printMode:NoIncludes\"]\n",
    "    else:\n",
    "        args += [\"/printMode:NoGhost\"]\n",
    "    args += [dafny_file]\n",
    "    cmd = ' '.join([executable] + args)\n",
    "    result = subprocess.run(['/bin/bash', '-i', '-c', cmd], stdout=subprocess.PIPE)\n",
    "    output = result.stdout.decode('ascii')\n",
    "    #print(type(result.stdout.decode('ascii')))\n",
    "    #print(result.stdout.decode('ascii'))\n",
    "\n",
    "    #remove this section once code has be tested OR comment out\n",
    "    #tmp_file = open(\"tmp.txt\", \"w\")\n",
    "    #tmp_file.write(result.stdout.decode('ascii'))\n",
    "    #tmp_file.close()\n",
    "    ######---------------------\n",
    "\n",
    "    count = 0\n",
    "    for line in output.splitlines():\n",
    "        # clean output i.e. remove comment at start and verifier status\n",
    "        if line.startswith((\"Dafny program verifier finished\", \"//\")):\n",
    "            #print(i)\n",
    "            pass\n",
    "        else:\n",
    "            if line.strip():\n",
    "                count += 1\n",
    "                #print(line)\n",
    "    #print(\"#LoC: \", count)\n",
    "    return count"
   ]
  },
  {
   "cell_type": "code",
   "execution_count": 12,
   "metadata": {},
   "outputs": [],
   "source": [
    "# count the number of lines included in the license comment\n",
    "# assumes license comment is at the start of the file and is of format /* ... */\n",
    "# assumes that it has been confirmed that the file has a license comment\n",
    "def getLicenseLineCount(dafny_file):\n",
    "    tmp_file = open(dafny_file, \"r\")\n",
    "    count = 0\n",
    "    flag = 0\n",
    "    for line in tmp_file.readlines():\n",
    "        tmp_line = line.strip()\n",
    "        cleaned = ' '.join(i for i in tmp_line.split() if i not in [\"//\", \"/*\", \"/**\", \"*\", \"*/\"])\n",
    "        if (not flag) and (tmp_line.startswith(\"/*\")):\n",
    "            if cleaned:\n",
    "                count += 1\n",
    "            flag = 1\n",
    "        elif flag:\n",
    "            if cleaned:\n",
    "                count += 1\n",
    "            if tmp_line.startswith(\"*/\"):\n",
    "                tmp_file.close()\n",
    "                return count"
   ]
  },
  {
   "cell_type": "code",
   "execution_count": 13,
   "metadata": {},
   "outputs": [],
   "source": [
    "# count the number of lines of documentation\n",
    "# don't include license comment or empty comment lines\n",
    "def getDocumentation(dafny_file):\n",
    "    tmp_file = open(dafny_file, \"r\")\n",
    "    count = 0\n",
    "    license_flag = 0\n",
    "    for line in tmp_file.readlines():\n",
    "        tmp_line = line.strip()\n",
    "        if tmp_line.startswith((\"//\", \"/*\", \"/**\", \"*\", \"*/\")):\n",
    "            cleaned = ' '.join(i for i in tmp_line.split() if i not in [\"//\", \"/*\", \"/**\", \"*\", \"*/\"])\n",
    "            if cleaned:\n",
    "                #print(cleaned)\n",
    "                count += 1\n",
    "                #print(line)\n",
    "        if tmp_line.startswith(\"* Copyright 2021 ConsenSys AG.\"):\n",
    "            license_flag = 1\n",
    "\n",
    "    tmp_file.close()\n",
    "    if license_flag:\n",
    "        count -= getLicenseLineCount(dafny_file)\n",
    "        #print(getLicenseLineCount(dafny_file))\n",
    "    return count"
   ]
  },
  {
   "cell_type": "code",
   "execution_count": 14,
   "metadata": {},
   "outputs": [],
   "source": [
    "# count the number of theorems (getGhost) and implementations (getNonGhost) proved\n",
    "# i.e. check that the number of errors when verified is zero\n",
    "# TODO: include arguments for getGhost and getNonGhost to reduce duplicate processing\n",
    "def getProved(dafny_file):\n",
    "    cmd = \"dafny /dafnyVerify:1 /compile:0 \" + dafny_file\n",
    "    result = subprocess.run(['/bin/bash', '-i', '-c', cmd], stdout=subprocess.PIPE)\n",
    "    output = result.stdout.decode('ascii')\n",
    "    for line in output.splitlines():\n",
    "        if line.startswith(\"Dafny program verifier finished with \"):\n",
    "            # check no errors\n",
    "            #print(line, re.findall(r'\\d+', line)[1], type(re.findall(r'\\d+', line)[1]))\n",
    "            if not int(re.findall(r'\\d+', line)[1]):\n",
    "                return (getGhost(dafny_file) + getNonGhost(dafny_file))\n",
    "        else:\n",
    "            pass\n",
    "    # if the verifier doesn't finish, return -1\n",
    "    return -1"
   ]
  },
  {
   "cell_type": "markdown",
   "metadata": {},
   "source": [
    "### Test statistics functions"
   ]
  },
  {
   "cell_type": "code",
   "execution_count": 15,
   "metadata": {},
   "outputs": [
    {
     "output_type": "stream",
     "name": "stdout",
     "text": [
      "Proved (verified from compile) ...\n",
      "13\n"
     ]
    }
   ],
   "source": [
    "# test file options:\n",
    "test_file = \"/Users/joannefuller/Documents/vscode/eth2.0-dafny/src/dafny/ssz/BytesAndBits.dfy\"\n",
    "#test_file = \"/Users/joannefuller/Documents/vscode/eth2.0-dafny/test/dafny/merkle/Merkleise.test.dfy\"\n",
    "#test_file = \"/Users/joannefuller/Documents/vscode/eth2.0-dafny/test/dafny/ssz/BitListSeDes.tests.dfy\"\n",
    "#test_file = \"/Users/joannefuller/Documents/vscode/eth2.0-dafny/src/dafny/ssz/BitListSeDes.dfy\"\n",
    "#test_file = \"/Users/joannefuller/Documents/vscode/eth2.0-dafny/src/dafny/merkle/Merkleise.dfy\"\n",
    "\n",
    "#print(\"Lemmas ...\")\n",
    "#print(getLemmas(test_file))\n",
    "\n",
    "#print(\"Function methods ...\")\n",
    "#print(getFunctions(test_file))\n",
    "\n",
    "#print(\"LoC ...\")\n",
    "#print(getLoC(test_file))\n",
    "\n",
    "#print(\"Documentation ...\")\n",
    "#print(getDocumentation(test_file))\n",
    "\n",
    "print(\"Proved (verified from compile) ...\")\n",
    "print(getProved(test_file))\n",
    "\n",
    "#print(\"Ghost ...\")\n",
    "#rint(getGhost(test_file))\n",
    "\n",
    "#print(\"NonGhost ...\")\n",
    "#print(getNonGhost(test_file))"
   ]
  },
  {
   "cell_type": "markdown",
   "metadata": {},
   "source": [
    "## Collate results into a pandas dataframe\n",
    "\n",
    "One row per Dafny file."
   ]
  },
  {
   "cell_type": "code",
   "execution_count": 16,
   "metadata": {},
   "outputs": [
    {
     "output_type": "execute_result",
     "data": {
      "text/plain": [
       "Empty DataFrame\n",
       "Columns: [Files, Folder, LoC, Theorems, Implementations, Documentation]\n",
       "Index: []"
      ],
      "text/html": "<div>\n<style scoped>\n    .dataframe tbody tr th:only-of-type {\n        vertical-align: middle;\n    }\n\n    .dataframe tbody tr th {\n        vertical-align: top;\n    }\n\n    .dataframe thead th {\n        text-align: right;\n    }\n</style>\n<table border=\"1\" class=\"dataframe\">\n  <thead>\n    <tr style=\"text-align: right;\">\n      <th></th>\n      <th>Files</th>\n      <th>Folder</th>\n      <th>LoC</th>\n      <th>Theorems</th>\n      <th>Implementations</th>\n      <th>Documentation</th>\n    </tr>\n  </thead>\n  <tbody>\n  </tbody>\n</table>\n</div>"
     },
     "metadata": {},
     "execution_count": 16
    }
   ],
   "source": [
    "# create a pandas dataframe to store stats relating to the dafny files\n",
    "column_list = ['Files', 'Folder', \"LoC\", 'Theorems', 'Implementations', \"Documentation\"] #\"#Doc/#LoC (%)\", \n",
    "repo_directory = \"/Users/joannefuller/Documents/vscode/eth2.0-dafny/\"\n",
    "#files = getListOfDafnyFiles(repo_directory)\n",
    "\n",
    "df = pd.DataFrame(columns=column_list)\n",
    "\n",
    "df.head()"
   ]
  },
  {
   "cell_type": "code",
   "execution_count": 17,
   "metadata": {},
   "outputs": [
    {
     "output_type": "stream",
     "name": "stdout",
     "text": [
      "<class 'pandas.core.frame.DataFrame'>\nIndex: 0 entries\nData columns (total 6 columns):\nFiles              0 non-null object\nFolder             0 non-null object\nLoC                0 non-null object\nTheorems           0 non-null object\nImplementations    0 non-null object\nDocumentation      0 non-null object\ndtypes: object(6)\nmemory usage: 0.0+ bytes\n"
     ]
    }
   ],
   "source": [
    "df.info()"
   ]
  },
  {
   "cell_type": "code",
   "execution_count": 18,
   "metadata": {},
   "outputs": [
    {
     "output_type": "stream",
     "name": "stdout",
     "text": [
      "/Users/joannefuller/Documents/vscode/eth2.0-dafny/src/dafny/beacon/BeaconChainTypes.dfy\n",
      "/Users/joannefuller/Documents/vscode/eth2.0-dafny/src/dafny/beacon/Helpers.dfy\n",
      "/Users/joannefuller/Documents/vscode/eth2.0-dafny/src/dafny/beacon/attestations/AttestationsHelpers.dfy\n",
      "/Users/joannefuller/Documents/vscode/eth2.0-dafny/src/dafny/beacon/attestations/AttestationsTypes.dfy\n",
      "/Users/joannefuller/Documents/vscode/eth2.0-dafny/src/dafny/beacon/forkchoice/ForkChoice.dfy\n",
      "/Users/joannefuller/Documents/vscode/eth2.0-dafny/src/dafny/beacon/forkchoice/ForkChoiceHelpers.dfy\n",
      "/Users/joannefuller/Documents/vscode/eth2.0-dafny/src/dafny/beacon/forkchoice/ForkChoiceProofs.p.dfy\n",
      "/Users/joannefuller/Documents/vscode/eth2.0-dafny/src/dafny/beacon/forkchoice/ForkChoiceTypes.dfy\n",
      "/Users/joannefuller/Documents/vscode/eth2.0-dafny/src/dafny/beacon/forkchoice/ForkChoicehelpers.p.dfy\n",
      "/Users/joannefuller/Documents/vscode/eth2.0-dafny/src/dafny/beacon/helpers/Crypto.dfy\n",
      "/Users/joannefuller/Documents/vscode/eth2.0-dafny/src/dafny/beacon/helpers/Math.dfy\n",
      "/Users/joannefuller/Documents/vscode/eth2.0-dafny/src/dafny/beacon/helpers/helper_lemmas/MathHelper.dfy\n",
      "/Users/joannefuller/Documents/vscode/eth2.0-dafny/src/dafny/beacon/statetransition/EpochProcessing.dfy\n",
      "/Users/joannefuller/Documents/vscode/eth2.0-dafny/src/dafny/beacon/statetransition/EpochProcessing.s.dfy\n",
      "/Users/joannefuller/Documents/vscode/eth2.0-dafny/src/dafny/beacon/statetransition/ProcessOperations.dfy\n",
      "/Users/joannefuller/Documents/vscode/eth2.0-dafny/src/dafny/beacon/statetransition/ProcessOperations.p.dfy\n",
      "/Users/joannefuller/Documents/vscode/eth2.0-dafny/src/dafny/beacon/statetransition/ProcessOperations.s.dfy\n",
      "/Users/joannefuller/Documents/vscode/eth2.0-dafny/src/dafny/beacon/statetransition/StateTransition.dfy\n",
      "/Users/joannefuller/Documents/vscode/eth2.0-dafny/src/dafny/beacon/statetransition/StateTransition.s.dfy\n",
      "/Users/joannefuller/Documents/vscode/eth2.0-dafny/src/dafny/beacon/statetransition/tempProcessOperations.dfy\n",
      "/Users/joannefuller/Documents/vscode/eth2.0-dafny/src/dafny/beacon/statetransition/tempv2ProcessOperations.dfy\n",
      "/Users/joannefuller/Documents/vscode/eth2.0-dafny/src/dafny/beacon/validators/Validators.dfy\n",
      "/Users/joannefuller/Documents/vscode/eth2.0-dafny/src/dafny/libraries/reals/div.r.dfy\n",
      "/Users/joannefuller/Documents/vscode/eth2.0-dafny/src/dafny/libraries/reals/mul.r.dfy\n",
      "/Users/joannefuller/Documents/vscode/eth2.0-dafny/src/dafny/merkle/Merkleise.dfy\n",
      "/Users/joannefuller/Documents/vscode/eth2.0-dafny/src/dafny/ssz/BitListSeDes.dfy\n",
      "/Users/joannefuller/Documents/vscode/eth2.0-dafny/src/dafny/ssz/BitVectorSeDes.dfy\n",
      "/Users/joannefuller/Documents/vscode/eth2.0-dafny/src/dafny/ssz/BoolSeDes.dfy\n",
      "/Users/joannefuller/Documents/vscode/eth2.0-dafny/src/dafny/ssz/BytesAndBits.dfy\n",
      "/Users/joannefuller/Documents/vscode/eth2.0-dafny/src/dafny/ssz/Constants.dfy\n",
      "/Users/joannefuller/Documents/vscode/eth2.0-dafny/src/dafny/ssz/IntSeDes.dfy\n",
      "/Users/joannefuller/Documents/vscode/eth2.0-dafny/src/dafny/ssz/Serialise.dfy\n",
      "/Users/joannefuller/Documents/vscode/eth2.0-dafny/src/dafny/utils/DafTests.dfy\n",
      "/Users/joannefuller/Documents/vscode/eth2.0-dafny/src/dafny/utils/Eth2Types.dfy\n",
      "/Users/joannefuller/Documents/vscode/eth2.0-dafny/src/dafny/utils/Helpers.dfy\n",
      "/Users/joannefuller/Documents/vscode/eth2.0-dafny/src/dafny/utils/MathHelpers.dfy\n",
      "/Users/joannefuller/Documents/vscode/eth2.0-dafny/src/dafny/utils/NativeTypes.dfy\n",
      "/Users/joannefuller/Documents/vscode/eth2.0-dafny/src/dafny/utils/NonNativeTypes.dfy\n",
      "/Users/joannefuller/Documents/vscode/eth2.0-dafny/src/dafny/utils/SeqHelpers.dfy\n",
      "/Users/joannefuller/Documents/vscode/eth2.0-dafny/src/dafny/utils/SetHelpers.dfy\n",
      "/Users/joannefuller/Documents/vscode/eth2.0-dafny/test/dafny/merkle/Merkleise.test.dfy\n",
      "/Users/joannefuller/Documents/vscode/eth2.0-dafny/test/dafny/merkle/third_party_implementations/TestBitlistMerkleise.dfy\n",
      "/Users/joannefuller/Documents/vscode/eth2.0-dafny/test/dafny/merkle/third_party_implementations/TestBitvectorMerkleise.dfy\n",
      "/Users/joannefuller/Documents/vscode/eth2.0-dafny/test/dafny/merkle/third_party_implementations/TestBytesMerkleise.dfy\n",
      "/Users/joannefuller/Documents/vscode/eth2.0-dafny/test/dafny/merkle/third_party_implementations/TestListOfBytes32Merkleise.dfy\n",
      "/Users/joannefuller/Documents/vscode/eth2.0-dafny/test/dafny/merkle/third_party_implementations/TestListOfUint64Merkleise.dfy\n",
      "/Users/joannefuller/Documents/vscode/eth2.0-dafny/test/dafny/merkle/third_party_implementations/TestVectorOfUint64Merkleise.dfy\n",
      "/Users/joannefuller/Documents/vscode/eth2.0-dafny/test/dafny/merkle/third_party_implementations/ThirdPartyMerkleisation.dfy\n",
      "/Users/joannefuller/Documents/vscode/eth2.0-dafny/test/dafny/ssz/BitListSeDes.tests.dfy\n",
      "/Users/joannefuller/Documents/vscode/eth2.0-dafny/test/dafny/ssz/UintSeDes.tests.dfy\n",
      "/Users/joannefuller/Documents/vscode/eth2.0-dafny/test/dafny/test_utils/StringConversions.dfy\n",
      "/Users/joannefuller/Documents/vscode/eth2.0-dafny/test/dafny/utils/MathHelpers.tests.dfy\n",
      "/Users/joannefuller/Documents/vscode/eth2.0-dafny/test/lowlevel_modules/CommandLine.dfy\n",
      "/Users/joannefuller/Documents/vscode/eth2.0-dafny/test/lowlevel_modules/Rand.dfy\n"
     ]
    }
   ],
   "source": [
    "# collect data for each dafny file\n",
    "for file in files:\n",
    "    loc = getLoC(file)\n",
    "    print(file)\n",
    "    ghost = getGhost(file)\n",
    "    nonghost = getNonGhost(file)\n",
    "    doc = getDocumentation(file)\n",
    "    #proved = getProved(file)\n",
    "    df2 = pd.DataFrame([[os.path.basename(file), \n",
    "                        getFolder(repo_directory, file), \n",
    "                        loc, #,\n",
    "                        ghost, \n",
    "                        nonghost,\n",
    "                        doc #,\n",
    "                        #round(doc/loc * 100),\n",
    "                        #proved \n",
    "                        ]], \n",
    "                        columns=column_list)\n",
    "    df = df.append(df2, ignore_index=True)\n",
    "\n"
   ]
  },
  {
   "cell_type": "code",
   "execution_count": 19,
   "metadata": {},
   "outputs": [
    {
     "output_type": "execute_result",
     "data": {
      "text/plain": [
       "                     Files                         Folder  LoC Theorems  \\\n",
       "0     BeaconChainTypes.dfy               src/dafny/beacon   53        0   \n",
       "1              Helpers.dfy               src/dafny/beacon  110        2   \n",
       "2  AttestationsHelpers.dfy  src/dafny/beacon/attestations  102        4   \n",
       "3    AttestationsTypes.dfy  src/dafny/beacon/attestations   27        0   \n",
       "4           ForkChoice.dfy    src/dafny/beacon/forkchoice    3        3   \n",
       "\n",
       "  Implementations Documentation  \n",
       "0               2           177  \n",
       "1              10            45  \n",
       "2               6           117  \n",
       "3               0            63  \n",
       "4              15           175  "
      ],
      "text/html": "<div>\n<style scoped>\n    .dataframe tbody tr th:only-of-type {\n        vertical-align: middle;\n    }\n\n    .dataframe tbody tr th {\n        vertical-align: top;\n    }\n\n    .dataframe thead th {\n        text-align: right;\n    }\n</style>\n<table border=\"1\" class=\"dataframe\">\n  <thead>\n    <tr style=\"text-align: right;\">\n      <th></th>\n      <th>Files</th>\n      <th>Folder</th>\n      <th>LoC</th>\n      <th>Theorems</th>\n      <th>Implementations</th>\n      <th>Documentation</th>\n    </tr>\n  </thead>\n  <tbody>\n    <tr>\n      <th>0</th>\n      <td>BeaconChainTypes.dfy</td>\n      <td>src/dafny/beacon</td>\n      <td>53</td>\n      <td>0</td>\n      <td>2</td>\n      <td>177</td>\n    </tr>\n    <tr>\n      <th>1</th>\n      <td>Helpers.dfy</td>\n      <td>src/dafny/beacon</td>\n      <td>110</td>\n      <td>2</td>\n      <td>10</td>\n      <td>45</td>\n    </tr>\n    <tr>\n      <th>2</th>\n      <td>AttestationsHelpers.dfy</td>\n      <td>src/dafny/beacon/attestations</td>\n      <td>102</td>\n      <td>4</td>\n      <td>6</td>\n      <td>117</td>\n    </tr>\n    <tr>\n      <th>3</th>\n      <td>AttestationsTypes.dfy</td>\n      <td>src/dafny/beacon/attestations</td>\n      <td>27</td>\n      <td>0</td>\n      <td>0</td>\n      <td>63</td>\n    </tr>\n    <tr>\n      <th>4</th>\n      <td>ForkChoice.dfy</td>\n      <td>src/dafny/beacon/forkchoice</td>\n      <td>3</td>\n      <td>3</td>\n      <td>15</td>\n      <td>175</td>\n    </tr>\n  </tbody>\n</table>\n</div>"
     },
     "metadata": {},
     "execution_count": 19
    }
   ],
   "source": [
    "df.head()"
   ]
  },
  {
   "cell_type": "code",
   "execution_count": 20,
   "metadata": {},
   "outputs": [
    {
     "output_type": "execute_result",
     "data": {
      "text/plain": [
       "                              Files  \\\n",
       "0              BeaconChainTypes.dfy   \n",
       "1                       Helpers.dfy   \n",
       "2           AttestationsHelpers.dfy   \n",
       "3             AttestationsTypes.dfy   \n",
       "4                    ForkChoice.dfy   \n",
       "5             ForkChoiceHelpers.dfy   \n",
       "6            ForkChoiceProofs.p.dfy   \n",
       "7               ForkChoiceTypes.dfy   \n",
       "8           ForkChoicehelpers.p.dfy   \n",
       "9                        Crypto.dfy   \n",
       "10                         Math.dfy   \n",
       "11                   MathHelper.dfy   \n",
       "12              EpochProcessing.dfy   \n",
       "13            EpochProcessing.s.dfy   \n",
       "14            ProcessOperations.dfy   \n",
       "15          ProcessOperations.p.dfy   \n",
       "16          ProcessOperations.s.dfy   \n",
       "17              StateTransition.dfy   \n",
       "18            StateTransition.s.dfy   \n",
       "19        tempProcessOperations.dfy   \n",
       "20      tempv2ProcessOperations.dfy   \n",
       "21                   Validators.dfy   \n",
       "22                        div.r.dfy   \n",
       "23                        mul.r.dfy   \n",
       "24                    Merkleise.dfy   \n",
       "25                 BitListSeDes.dfy   \n",
       "26               BitVectorSeDes.dfy   \n",
       "27                    BoolSeDes.dfy   \n",
       "28                 BytesAndBits.dfy   \n",
       "29                    Constants.dfy   \n",
       "30                     IntSeDes.dfy   \n",
       "31                    Serialise.dfy   \n",
       "32                     DafTests.dfy   \n",
       "33                    Eth2Types.dfy   \n",
       "34                      Helpers.dfy   \n",
       "35                  MathHelpers.dfy   \n",
       "36                  NativeTypes.dfy   \n",
       "37               NonNativeTypes.dfy   \n",
       "38                   SeqHelpers.dfy   \n",
       "39                   SetHelpers.dfy   \n",
       "40               Merkleise.test.dfy   \n",
       "41         TestBitlistMerkleise.dfy   \n",
       "42       TestBitvectorMerkleise.dfy   \n",
       "43           TestBytesMerkleise.dfy   \n",
       "44   TestListOfBytes32Merkleise.dfy   \n",
       "45    TestListOfUint64Merkleise.dfy   \n",
       "46  TestVectorOfUint64Merkleise.dfy   \n",
       "47      ThirdPartyMerkleisation.dfy   \n",
       "48           BitListSeDes.tests.dfy   \n",
       "49              UintSeDes.tests.dfy   \n",
       "50            StringConversions.dfy   \n",
       "51            MathHelpers.tests.dfy   \n",
       "52                  CommandLine.dfy   \n",
       "53                         Rand.dfy   \n",
       "54                                    \n",
       "\n",
       "                                           Folder   LoC Theorems  \\\n",
       "0                                src/dafny/beacon    53        0   \n",
       "1                                src/dafny/beacon   110        2   \n",
       "2                   src/dafny/beacon/attestations   102        4   \n",
       "3                   src/dafny/beacon/attestations    27        0   \n",
       "4                     src/dafny/beacon/forkchoice     3        3   \n",
       "5                     src/dafny/beacon/forkchoice   133        6   \n",
       "6                     src/dafny/beacon/forkchoice   104        6   \n",
       "7                     src/dafny/beacon/forkchoice     8        0   \n",
       "8                     src/dafny/beacon/forkchoice    49        2   \n",
       "9                        src/dafny/beacon/helpers     5        0   \n",
       "10                       src/dafny/beacon/helpers    88        6   \n",
       "11         src/dafny/beacon/helpers/helper_lemmas   652       20   \n",
       "12               src/dafny/beacon/statetransition     3        0   \n",
       "13               src/dafny/beacon/statetransition   117       12   \n",
       "14               src/dafny/beacon/statetransition   292        0   \n",
       "15               src/dafny/beacon/statetransition    28        0   \n",
       "16               src/dafny/beacon/statetransition   885       45   \n",
       "17               src/dafny/beacon/statetransition     3        0   \n",
       "18               src/dafny/beacon/statetransition    97        7   \n",
       "19               src/dafny/beacon/statetransition   751       32   \n",
       "20               src/dafny/beacon/statetransition   265        0   \n",
       "21                    src/dafny/beacon/validators    10        0   \n",
       "22                      src/dafny/libraries/reals    21        3   \n",
       "23                      src/dafny/libraries/reals     9        1   \n",
       "24                               src/dafny/merkle   502        9   \n",
       "25                                  src/dafny/ssz   260        7   \n",
       "26                                  src/dafny/ssz   132        4   \n",
       "27                                  src/dafny/ssz    20        0   \n",
       "28                                  src/dafny/ssz    88        7   \n",
       "29                                  src/dafny/ssz    90        0   \n",
       "30                                  src/dafny/ssz   128        2   \n",
       "31                                  src/dafny/ssz   512        3   \n",
       "32                                src/dafny/utils    60        0   \n",
       "33                                src/dafny/utils   223        1   \n",
       "34                                src/dafny/utils   218       11   \n",
       "35                                src/dafny/utils   193       10   \n",
       "36                                src/dafny/utils    26        0   \n",
       "37                                src/dafny/utils     6        0   \n",
       "38                                src/dafny/utils    61        7   \n",
       "39                                src/dafny/utils    35        3   \n",
       "40                              test/dafny/merkle    23        0   \n",
       "41  test/dafny/merkle/third_party_implementations    66        0   \n",
       "42  test/dafny/merkle/third_party_implementations    59        0   \n",
       "43  test/dafny/merkle/third_party_implementations    53        0   \n",
       "44  test/dafny/merkle/third_party_implementations    96        2   \n",
       "45  test/dafny/merkle/third_party_implementations    76        0   \n",
       "46  test/dafny/merkle/third_party_implementations    69        0   \n",
       "47  test/dafny/merkle/third_party_implementations    19        0   \n",
       "48                                 test/dafny/ssz    14        0   \n",
       "49                                 test/dafny/ssz    16        0   \n",
       "50                          test/dafny/test_utils   159        1   \n",
       "51                               test/dafny/utils    13        0   \n",
       "52                          test/lowlevel_modules    18        0   \n",
       "53                          test/lowlevel_modules     5        0   \n",
       "54                                          TOTAL  7055      216   \n",
       "\n",
       "   Implementations Documentation  \n",
       "0                2           177  \n",
       "1               10            45  \n",
       "2                6           117  \n",
       "3                0            63  \n",
       "4               15           175  \n",
       "5                4           156  \n",
       "6                0           108  \n",
       "7                0            26  \n",
       "8                1            53  \n",
       "9                1            12  \n",
       "10               1            32  \n",
       "11               0            20  \n",
       "12               4           121  \n",
       "13               1           209  \n",
       "14               7           425  \n",
       "15               0            12  \n",
       "16              27           443  \n",
       "17              12           184  \n",
       "18               0           309  \n",
       "19              28           568  \n",
       "20               7           404  \n",
       "21               0            61  \n",
       "22               0             9  \n",
       "23               0             9  \n",
       "24              18           158  \n",
       "25               3            72  \n",
       "26               2            45  \n",
       "27               2            12  \n",
       "28               6            53  \n",
       "29               0            37  \n",
       "30               2            29  \n",
       "31               5            45  \n",
       "32               4            34  \n",
       "33               3            83  \n",
       "34               3            73  \n",
       "35               4            41  \n",
       "36               0            22  \n",
       "37               0            15  \n",
       "38               2            26  \n",
       "39               0            23  \n",
       "40               1            19  \n",
       "41               7            25  \n",
       "42               7            27  \n",
       "43               6            26  \n",
       "44               8            45  \n",
       "45               7            24  \n",
       "46               7            22  \n",
       "47               6             9  \n",
       "48               1            16  \n",
       "49               1            17  \n",
       "50              19            82  \n",
       "51               1            26  \n",
       "52               3            15  \n",
       "53               1             9  \n",
       "54             255          4868  "
      ],
      "text/html": "<div>\n<style scoped>\n    .dataframe tbody tr th:only-of-type {\n        vertical-align: middle;\n    }\n\n    .dataframe tbody tr th {\n        vertical-align: top;\n    }\n\n    .dataframe thead th {\n        text-align: right;\n    }\n</style>\n<table border=\"1\" class=\"dataframe\">\n  <thead>\n    <tr style=\"text-align: right;\">\n      <th></th>\n      <th>Files</th>\n      <th>Folder</th>\n      <th>LoC</th>\n      <th>Theorems</th>\n      <th>Implementations</th>\n      <th>Documentation</th>\n    </tr>\n  </thead>\n  <tbody>\n    <tr>\n      <th>0</th>\n      <td>BeaconChainTypes.dfy</td>\n      <td>src/dafny/beacon</td>\n      <td>53</td>\n      <td>0</td>\n      <td>2</td>\n      <td>177</td>\n    </tr>\n    <tr>\n      <th>1</th>\n      <td>Helpers.dfy</td>\n      <td>src/dafny/beacon</td>\n      <td>110</td>\n      <td>2</td>\n      <td>10</td>\n      <td>45</td>\n    </tr>\n    <tr>\n      <th>2</th>\n      <td>AttestationsHelpers.dfy</td>\n      <td>src/dafny/beacon/attestations</td>\n      <td>102</td>\n      <td>4</td>\n      <td>6</td>\n      <td>117</td>\n    </tr>\n    <tr>\n      <th>3</th>\n      <td>AttestationsTypes.dfy</td>\n      <td>src/dafny/beacon/attestations</td>\n      <td>27</td>\n      <td>0</td>\n      <td>0</td>\n      <td>63</td>\n    </tr>\n    <tr>\n      <th>4</th>\n      <td>ForkChoice.dfy</td>\n      <td>src/dafny/beacon/forkchoice</td>\n      <td>3</td>\n      <td>3</td>\n      <td>15</td>\n      <td>175</td>\n    </tr>\n    <tr>\n      <th>5</th>\n      <td>ForkChoiceHelpers.dfy</td>\n      <td>src/dafny/beacon/forkchoice</td>\n      <td>133</td>\n      <td>6</td>\n      <td>4</td>\n      <td>156</td>\n    </tr>\n    <tr>\n      <th>6</th>\n      <td>ForkChoiceProofs.p.dfy</td>\n      <td>src/dafny/beacon/forkchoice</td>\n      <td>104</td>\n      <td>6</td>\n      <td>0</td>\n      <td>108</td>\n    </tr>\n    <tr>\n      <th>7</th>\n      <td>ForkChoiceTypes.dfy</td>\n      <td>src/dafny/beacon/forkchoice</td>\n      <td>8</td>\n      <td>0</td>\n      <td>0</td>\n      <td>26</td>\n    </tr>\n    <tr>\n      <th>8</th>\n      <td>ForkChoicehelpers.p.dfy</td>\n      <td>src/dafny/beacon/forkchoice</td>\n      <td>49</td>\n      <td>2</td>\n      <td>1</td>\n      <td>53</td>\n    </tr>\n    <tr>\n      <th>9</th>\n      <td>Crypto.dfy</td>\n      <td>src/dafny/beacon/helpers</td>\n      <td>5</td>\n      <td>0</td>\n      <td>1</td>\n      <td>12</td>\n    </tr>\n    <tr>\n      <th>10</th>\n      <td>Math.dfy</td>\n      <td>src/dafny/beacon/helpers</td>\n      <td>88</td>\n      <td>6</td>\n      <td>1</td>\n      <td>32</td>\n    </tr>\n    <tr>\n      <th>11</th>\n      <td>MathHelper.dfy</td>\n      <td>src/dafny/beacon/helpers/helper_lemmas</td>\n      <td>652</td>\n      <td>20</td>\n      <td>0</td>\n      <td>20</td>\n    </tr>\n    <tr>\n      <th>12</th>\n      <td>EpochProcessing.dfy</td>\n      <td>src/dafny/beacon/statetransition</td>\n      <td>3</td>\n      <td>0</td>\n      <td>4</td>\n      <td>121</td>\n    </tr>\n    <tr>\n      <th>13</th>\n      <td>EpochProcessing.s.dfy</td>\n      <td>src/dafny/beacon/statetransition</td>\n      <td>117</td>\n      <td>12</td>\n      <td>1</td>\n      <td>209</td>\n    </tr>\n    <tr>\n      <th>14</th>\n      <td>ProcessOperations.dfy</td>\n      <td>src/dafny/beacon/statetransition</td>\n      <td>292</td>\n      <td>0</td>\n      <td>7</td>\n      <td>425</td>\n    </tr>\n    <tr>\n      <th>15</th>\n      <td>ProcessOperations.p.dfy</td>\n      <td>src/dafny/beacon/statetransition</td>\n      <td>28</td>\n      <td>0</td>\n      <td>0</td>\n      <td>12</td>\n    </tr>\n    <tr>\n      <th>16</th>\n      <td>ProcessOperations.s.dfy</td>\n      <td>src/dafny/beacon/statetransition</td>\n      <td>885</td>\n      <td>45</td>\n      <td>27</td>\n      <td>443</td>\n    </tr>\n    <tr>\n      <th>17</th>\n      <td>StateTransition.dfy</td>\n      <td>src/dafny/beacon/statetransition</td>\n      <td>3</td>\n      <td>0</td>\n      <td>12</td>\n      <td>184</td>\n    </tr>\n    <tr>\n      <th>18</th>\n      <td>StateTransition.s.dfy</td>\n      <td>src/dafny/beacon/statetransition</td>\n      <td>97</td>\n      <td>7</td>\n      <td>0</td>\n      <td>309</td>\n    </tr>\n    <tr>\n      <th>19</th>\n      <td>tempProcessOperations.dfy</td>\n      <td>src/dafny/beacon/statetransition</td>\n      <td>751</td>\n      <td>32</td>\n      <td>28</td>\n      <td>568</td>\n    </tr>\n    <tr>\n      <th>20</th>\n      <td>tempv2ProcessOperations.dfy</td>\n      <td>src/dafny/beacon/statetransition</td>\n      <td>265</td>\n      <td>0</td>\n      <td>7</td>\n      <td>404</td>\n    </tr>\n    <tr>\n      <th>21</th>\n      <td>Validators.dfy</td>\n      <td>src/dafny/beacon/validators</td>\n      <td>10</td>\n      <td>0</td>\n      <td>0</td>\n      <td>61</td>\n    </tr>\n    <tr>\n      <th>22</th>\n      <td>div.r.dfy</td>\n      <td>src/dafny/libraries/reals</td>\n      <td>21</td>\n      <td>3</td>\n      <td>0</td>\n      <td>9</td>\n    </tr>\n    <tr>\n      <th>23</th>\n      <td>mul.r.dfy</td>\n      <td>src/dafny/libraries/reals</td>\n      <td>9</td>\n      <td>1</td>\n      <td>0</td>\n      <td>9</td>\n    </tr>\n    <tr>\n      <th>24</th>\n      <td>Merkleise.dfy</td>\n      <td>src/dafny/merkle</td>\n      <td>502</td>\n      <td>9</td>\n      <td>18</td>\n      <td>158</td>\n    </tr>\n    <tr>\n      <th>25</th>\n      <td>BitListSeDes.dfy</td>\n      <td>src/dafny/ssz</td>\n      <td>260</td>\n      <td>7</td>\n      <td>3</td>\n      <td>72</td>\n    </tr>\n    <tr>\n      <th>26</th>\n      <td>BitVectorSeDes.dfy</td>\n      <td>src/dafny/ssz</td>\n      <td>132</td>\n      <td>4</td>\n      <td>2</td>\n      <td>45</td>\n    </tr>\n    <tr>\n      <th>27</th>\n      <td>BoolSeDes.dfy</td>\n      <td>src/dafny/ssz</td>\n      <td>20</td>\n      <td>0</td>\n      <td>2</td>\n      <td>12</td>\n    </tr>\n    <tr>\n      <th>28</th>\n      <td>BytesAndBits.dfy</td>\n      <td>src/dafny/ssz</td>\n      <td>88</td>\n      <td>7</td>\n      <td>6</td>\n      <td>53</td>\n    </tr>\n    <tr>\n      <th>29</th>\n      <td>Constants.dfy</td>\n      <td>src/dafny/ssz</td>\n      <td>90</td>\n      <td>0</td>\n      <td>0</td>\n      <td>37</td>\n    </tr>\n    <tr>\n      <th>30</th>\n      <td>IntSeDes.dfy</td>\n      <td>src/dafny/ssz</td>\n      <td>128</td>\n      <td>2</td>\n      <td>2</td>\n      <td>29</td>\n    </tr>\n    <tr>\n      <th>31</th>\n      <td>Serialise.dfy</td>\n      <td>src/dafny/ssz</td>\n      <td>512</td>\n      <td>3</td>\n      <td>5</td>\n      <td>45</td>\n    </tr>\n    <tr>\n      <th>32</th>\n      <td>DafTests.dfy</td>\n      <td>src/dafny/utils</td>\n      <td>60</td>\n      <td>0</td>\n      <td>4</td>\n      <td>34</td>\n    </tr>\n    <tr>\n      <th>33</th>\n      <td>Eth2Types.dfy</td>\n      <td>src/dafny/utils</td>\n      <td>223</td>\n      <td>1</td>\n      <td>3</td>\n      <td>83</td>\n    </tr>\n    <tr>\n      <th>34</th>\n      <td>Helpers.dfy</td>\n      <td>src/dafny/utils</td>\n      <td>218</td>\n      <td>11</td>\n      <td>3</td>\n      <td>73</td>\n    </tr>\n    <tr>\n      <th>35</th>\n      <td>MathHelpers.dfy</td>\n      <td>src/dafny/utils</td>\n      <td>193</td>\n      <td>10</td>\n      <td>4</td>\n      <td>41</td>\n    </tr>\n    <tr>\n      <th>36</th>\n      <td>NativeTypes.dfy</td>\n      <td>src/dafny/utils</td>\n      <td>26</td>\n      <td>0</td>\n      <td>0</td>\n      <td>22</td>\n    </tr>\n    <tr>\n      <th>37</th>\n      <td>NonNativeTypes.dfy</td>\n      <td>src/dafny/utils</td>\n      <td>6</td>\n      <td>0</td>\n      <td>0</td>\n      <td>15</td>\n    </tr>\n    <tr>\n      <th>38</th>\n      <td>SeqHelpers.dfy</td>\n      <td>src/dafny/utils</td>\n      <td>61</td>\n      <td>7</td>\n      <td>2</td>\n      <td>26</td>\n    </tr>\n    <tr>\n      <th>39</th>\n      <td>SetHelpers.dfy</td>\n      <td>src/dafny/utils</td>\n      <td>35</td>\n      <td>3</td>\n      <td>0</td>\n      <td>23</td>\n    </tr>\n    <tr>\n      <th>40</th>\n      <td>Merkleise.test.dfy</td>\n      <td>test/dafny/merkle</td>\n      <td>23</td>\n      <td>0</td>\n      <td>1</td>\n      <td>19</td>\n    </tr>\n    <tr>\n      <th>41</th>\n      <td>TestBitlistMerkleise.dfy</td>\n      <td>test/dafny/merkle/third_party_implementations</td>\n      <td>66</td>\n      <td>0</td>\n      <td>7</td>\n      <td>25</td>\n    </tr>\n    <tr>\n      <th>42</th>\n      <td>TestBitvectorMerkleise.dfy</td>\n      <td>test/dafny/merkle/third_party_implementations</td>\n      <td>59</td>\n      <td>0</td>\n      <td>7</td>\n      <td>27</td>\n    </tr>\n    <tr>\n      <th>43</th>\n      <td>TestBytesMerkleise.dfy</td>\n      <td>test/dafny/merkle/third_party_implementations</td>\n      <td>53</td>\n      <td>0</td>\n      <td>6</td>\n      <td>26</td>\n    </tr>\n    <tr>\n      <th>44</th>\n      <td>TestListOfBytes32Merkleise.dfy</td>\n      <td>test/dafny/merkle/third_party_implementations</td>\n      <td>96</td>\n      <td>2</td>\n      <td>8</td>\n      <td>45</td>\n    </tr>\n    <tr>\n      <th>45</th>\n      <td>TestListOfUint64Merkleise.dfy</td>\n      <td>test/dafny/merkle/third_party_implementations</td>\n      <td>76</td>\n      <td>0</td>\n      <td>7</td>\n      <td>24</td>\n    </tr>\n    <tr>\n      <th>46</th>\n      <td>TestVectorOfUint64Merkleise.dfy</td>\n      <td>test/dafny/merkle/third_party_implementations</td>\n      <td>69</td>\n      <td>0</td>\n      <td>7</td>\n      <td>22</td>\n    </tr>\n    <tr>\n      <th>47</th>\n      <td>ThirdPartyMerkleisation.dfy</td>\n      <td>test/dafny/merkle/third_party_implementations</td>\n      <td>19</td>\n      <td>0</td>\n      <td>6</td>\n      <td>9</td>\n    </tr>\n    <tr>\n      <th>48</th>\n      <td>BitListSeDes.tests.dfy</td>\n      <td>test/dafny/ssz</td>\n      <td>14</td>\n      <td>0</td>\n      <td>1</td>\n      <td>16</td>\n    </tr>\n    <tr>\n      <th>49</th>\n      <td>UintSeDes.tests.dfy</td>\n      <td>test/dafny/ssz</td>\n      <td>16</td>\n      <td>0</td>\n      <td>1</td>\n      <td>17</td>\n    </tr>\n    <tr>\n      <th>50</th>\n      <td>StringConversions.dfy</td>\n      <td>test/dafny/test_utils</td>\n      <td>159</td>\n      <td>1</td>\n      <td>19</td>\n      <td>82</td>\n    </tr>\n    <tr>\n      <th>51</th>\n      <td>MathHelpers.tests.dfy</td>\n      <td>test/dafny/utils</td>\n      <td>13</td>\n      <td>0</td>\n      <td>1</td>\n      <td>26</td>\n    </tr>\n    <tr>\n      <th>52</th>\n      <td>CommandLine.dfy</td>\n      <td>test/lowlevel_modules</td>\n      <td>18</td>\n      <td>0</td>\n      <td>3</td>\n      <td>15</td>\n    </tr>\n    <tr>\n      <th>53</th>\n      <td>Rand.dfy</td>\n      <td>test/lowlevel_modules</td>\n      <td>5</td>\n      <td>0</td>\n      <td>1</td>\n      <td>9</td>\n    </tr>\n    <tr>\n      <th>54</th>\n      <td></td>\n      <td>TOTAL</td>\n      <td>7055</td>\n      <td>216</td>\n      <td>255</td>\n      <td>4868</td>\n    </tr>\n  </tbody>\n</table>\n</div>"
     },
     "metadata": {},
     "execution_count": 20
    }
   ],
   "source": [
    "# create and append totals for numeric columns\n",
    "totals = pd.DataFrame([[\"\", \n",
    "                        \"TOTAL\", \n",
    "                        df['LoC'].sum(), #,\n",
    "                        df['Theorems'].sum(), \n",
    "                        df['Implementations'].sum(),\n",
    "                        df['Documentation'].sum(),\n",
    "                        #round(df['Documentation'].sum()/df['#LoC'].sum() * 100),\n",
    "                        #df['Proved'].sum()\n",
    "                        ]], \n",
    "                        columns=column_list)\n",
    "df = df.append(totals, ignore_index=True)\n",
    "\n",
    "# convert numeric columns to int64\n",
    "#numCols = ['#LoC', 'Theorems', 'Implementations', \"Documentation\", \"#Doc/#LoC\", \"Proved\"]\n",
    "#df[numCols] = df[numCols].astype(\"int64\")\n",
    "\n",
    "#display a sample of rows\n",
    "df.head(len(df))"
   ]
  },
  {
   "cell_type": "markdown",
   "metadata": {},
   "source": [
    "### Alternative format\n",
    "\n",
    "May be useful for github"
   ]
  },
  {
   "cell_type": "code",
   "execution_count": 21,
   "metadata": {},
   "outputs": [
    {
     "output_type": "stream",
     "name": "stdout",
     "text": [
      "|    | Files                           | Folder                                        |   LoC |   Theorems |   Implementations |   Documentation |\n|----|---------------------------------|-----------------------------------------------|-------|------------|-------------------|-----------------|\n|  0 | BeaconChainTypes.dfy            | src/dafny/beacon                              |    53 |          0 |                 2 |             177 |\n|  1 | Helpers.dfy                     | src/dafny/beacon                              |   110 |          2 |                10 |              45 |\n|  2 | AttestationsHelpers.dfy         | src/dafny/beacon/attestations                 |   102 |          4 |                 6 |             117 |\n|  3 | AttestationsTypes.dfy           | src/dafny/beacon/attestations                 |    27 |          0 |                 0 |              63 |\n|  4 | ForkChoice.dfy                  | src/dafny/beacon/forkchoice                   |     3 |          3 |                15 |             175 |\n|  5 | ForkChoiceHelpers.dfy           | src/dafny/beacon/forkchoice                   |   133 |          6 |                 4 |             156 |\n|  6 | ForkChoiceProofs.p.dfy          | src/dafny/beacon/forkchoice                   |   104 |          6 |                 0 |             108 |\n|  7 | ForkChoiceTypes.dfy             | src/dafny/beacon/forkchoice                   |     8 |          0 |                 0 |              26 |\n|  8 | ForkChoicehelpers.p.dfy         | src/dafny/beacon/forkchoice                   |    49 |          2 |                 1 |              53 |\n|  9 | Crypto.dfy                      | src/dafny/beacon/helpers                      |     5 |          0 |                 1 |              12 |\n| 10 | Math.dfy                        | src/dafny/beacon/helpers                      |    88 |          6 |                 1 |              32 |\n| 11 | MathHelper.dfy                  | src/dafny/beacon/helpers/helper_lemmas        |   652 |         20 |                 0 |              20 |\n| 12 | EpochProcessing.dfy             | src/dafny/beacon/statetransition              |     3 |          0 |                 4 |             121 |\n| 13 | EpochProcessing.s.dfy           | src/dafny/beacon/statetransition              |   117 |         12 |                 1 |             209 |\n| 14 | ProcessOperations.dfy           | src/dafny/beacon/statetransition              |   292 |          0 |                 7 |             425 |\n| 15 | ProcessOperations.p.dfy         | src/dafny/beacon/statetransition              |    28 |          0 |                 0 |              12 |\n| 16 | ProcessOperations.s.dfy         | src/dafny/beacon/statetransition              |   885 |         45 |                27 |             443 |\n| 17 | StateTransition.dfy             | src/dafny/beacon/statetransition              |     3 |          0 |                12 |             184 |\n| 18 | StateTransition.s.dfy           | src/dafny/beacon/statetransition              |    97 |          7 |                 0 |             309 |\n| 19 | tempProcessOperations.dfy       | src/dafny/beacon/statetransition              |   751 |         32 |                28 |             568 |\n| 20 | tempv2ProcessOperations.dfy     | src/dafny/beacon/statetransition              |   265 |          0 |                 7 |             404 |\n| 21 | Validators.dfy                  | src/dafny/beacon/validators                   |    10 |          0 |                 0 |              61 |\n| 22 | div.r.dfy                       | src/dafny/libraries/reals                     |    21 |          3 |                 0 |               9 |\n| 23 | mul.r.dfy                       | src/dafny/libraries/reals                     |     9 |          1 |                 0 |               9 |\n| 24 | Merkleise.dfy                   | src/dafny/merkle                              |   502 |          9 |                18 |             158 |\n| 25 | BitListSeDes.dfy                | src/dafny/ssz                                 |   260 |          7 |                 3 |              72 |\n| 26 | BitVectorSeDes.dfy              | src/dafny/ssz                                 |   132 |          4 |                 2 |              45 |\n| 27 | BoolSeDes.dfy                   | src/dafny/ssz                                 |    20 |          0 |                 2 |              12 |\n| 28 | BytesAndBits.dfy                | src/dafny/ssz                                 |    88 |          7 |                 6 |              53 |\n| 29 | Constants.dfy                   | src/dafny/ssz                                 |    90 |          0 |                 0 |              37 |\n| 30 | IntSeDes.dfy                    | src/dafny/ssz                                 |   128 |          2 |                 2 |              29 |\n| 31 | Serialise.dfy                   | src/dafny/ssz                                 |   512 |          3 |                 5 |              45 |\n| 32 | DafTests.dfy                    | src/dafny/utils                               |    60 |          0 |                 4 |              34 |\n| 33 | Eth2Types.dfy                   | src/dafny/utils                               |   223 |          1 |                 3 |              83 |\n| 34 | Helpers.dfy                     | src/dafny/utils                               |   218 |         11 |                 3 |              73 |\n| 35 | MathHelpers.dfy                 | src/dafny/utils                               |   193 |         10 |                 4 |              41 |\n| 36 | NativeTypes.dfy                 | src/dafny/utils                               |    26 |          0 |                 0 |              22 |\n| 37 | NonNativeTypes.dfy              | src/dafny/utils                               |     6 |          0 |                 0 |              15 |\n| 38 | SeqHelpers.dfy                  | src/dafny/utils                               |    61 |          7 |                 2 |              26 |\n| 39 | SetHelpers.dfy                  | src/dafny/utils                               |    35 |          3 |                 0 |              23 |\n| 40 | Merkleise.test.dfy              | test/dafny/merkle                             |    23 |          0 |                 1 |              19 |\n| 41 | TestBitlistMerkleise.dfy        | test/dafny/merkle/third_party_implementations |    66 |          0 |                 7 |              25 |\n| 42 | TestBitvectorMerkleise.dfy      | test/dafny/merkle/third_party_implementations |    59 |          0 |                 7 |              27 |\n| 43 | TestBytesMerkleise.dfy          | test/dafny/merkle/third_party_implementations |    53 |          0 |                 6 |              26 |\n| 44 | TestListOfBytes32Merkleise.dfy  | test/dafny/merkle/third_party_implementations |    96 |          2 |                 8 |              45 |\n| 45 | TestListOfUint64Merkleise.dfy   | test/dafny/merkle/third_party_implementations |    76 |          0 |                 7 |              24 |\n| 46 | TestVectorOfUint64Merkleise.dfy | test/dafny/merkle/third_party_implementations |    69 |          0 |                 7 |              22 |\n| 47 | ThirdPartyMerkleisation.dfy     | test/dafny/merkle/third_party_implementations |    19 |          0 |                 6 |               9 |\n| 48 | BitListSeDes.tests.dfy          | test/dafny/ssz                                |    14 |          0 |                 1 |              16 |\n| 49 | UintSeDes.tests.dfy             | test/dafny/ssz                                |    16 |          0 |                 1 |              17 |\n| 50 | StringConversions.dfy           | test/dafny/test_utils                         |   159 |          1 |                19 |              82 |\n| 51 | MathHelpers.tests.dfy           | test/dafny/utils                              |    13 |          0 |                 1 |              26 |\n| 52 | CommandLine.dfy                 | test/lowlevel_modules                         |    18 |          0 |                 3 |              15 |\n| 53 | Rand.dfy                        | test/lowlevel_modules                         |     5 |          0 |                 1 |               9 |\n| 54 |                                 | TOTAL                                         |  7055 |        216 |               255 |            4868 |\n"
     ]
    }
   ],
   "source": [
    "from tabulate import tabulate\n",
    "\n",
    "print(tabulate(df, headers='keys', tablefmt='github'))\n"
   ]
  },
  {
   "cell_type": "markdown",
   "metadata": {},
   "source": [
    "## Group data\n",
    "\n",
    "One row per folder."
   ]
  },
  {
   "cell_type": "code",
   "execution_count": 22,
   "metadata": {},
   "outputs": [
    {
     "output_type": "execute_result",
     "data": {
      "text/plain": [
       "                   Folder #Files  #LoC Theorems Implementations Documentation  \\\n",
       "0       /src/dafny/merkle      1   502        9              18           158   \n",
       "1          /src/dafny/ssz      7  1230       23              20           293   \n",
       "2        /src/dafny/utils      8   822       32              16           317   \n",
       "3  /test/lowlevel_modules     14   686        3              75           362   \n",
       "\n",
       "  #Doc/#LoC (%) Proved  \n",
       "0            31     27  \n",
       "1            24     43  \n",
       "2            39     48  \n",
       "3            53     22  "
      ],
      "text/html": "<div>\n<style scoped>\n    .dataframe tbody tr th:only-of-type {\n        vertical-align: middle;\n    }\n\n    .dataframe tbody tr th {\n        vertical-align: top;\n    }\n\n    .dataframe thead th {\n        text-align: right;\n    }\n</style>\n<table border=\"1\" class=\"dataframe\">\n  <thead>\n    <tr style=\"text-align: right;\">\n      <th></th>\n      <th>Folder</th>\n      <th>#Files</th>\n      <th>#LoC</th>\n      <th>Theorems</th>\n      <th>Implementations</th>\n      <th>Documentation</th>\n      <th>#Doc/#LoC (%)</th>\n      <th>Proved</th>\n    </tr>\n  </thead>\n  <tbody>\n    <tr>\n      <th>0</th>\n      <td>/src/dafny/merkle</td>\n      <td>1</td>\n      <td>502</td>\n      <td>9</td>\n      <td>18</td>\n      <td>158</td>\n      <td>31</td>\n      <td>27</td>\n    </tr>\n    <tr>\n      <th>1</th>\n      <td>/src/dafny/ssz</td>\n      <td>7</td>\n      <td>1230</td>\n      <td>23</td>\n      <td>20</td>\n      <td>293</td>\n      <td>24</td>\n      <td>43</td>\n    </tr>\n    <tr>\n      <th>2</th>\n      <td>/src/dafny/utils</td>\n      <td>8</td>\n      <td>822</td>\n      <td>32</td>\n      <td>16</td>\n      <td>317</td>\n      <td>39</td>\n      <td>48</td>\n    </tr>\n    <tr>\n      <th>3</th>\n      <td>/test/lowlevel_modules</td>\n      <td>14</td>\n      <td>686</td>\n      <td>3</td>\n      <td>75</td>\n      <td>362</td>\n      <td>53</td>\n      <td>22</td>\n    </tr>\n  </tbody>\n</table>\n</div>"
     },
     "metadata": {},
     "execution_count": 22
    }
   ],
   "source": [
    "# create a pandas dataframe to store stats relating to the dafny files\n",
    "# stats grouped by folder\n",
    "folders = [\"/Users/joannefuller/Documents/vscode/eth2.0-dafny/src/dafny/merkle\",\n",
    "            \"/Users/joannefuller/Documents/vscode/eth2.0-dafny/src/dafny/ssz\",\n",
    "            \"/Users/joannefuller/Documents/vscode/eth2.0-dafny/src/dafny/utils\",\n",
    "            \"/Users/joannefuller/Documents/vscode/eth2.0-dafny/test/\"]\n",
    "\n",
    "column_list = ['Folder', '#Files', '#LoC', 'Theorems', 'Implementations', \"Documentation\", \"#Doc/#LoC (%)\", \"Proved\"]\n",
    "df_grouped = pd.DataFrame(columns=column_list)\n",
    "\n",
    "for folder in folders:\n",
    "    files = getListOfDafnyFiles(folder)\n",
    "    \n",
    "    nFiles = 0\n",
    "    nLoc = 0\n",
    "    nGhost = 0\n",
    "    nNonGhost = 0\n",
    "    nDoc = 0\n",
    "    nProved = 0\n",
    "    for file in files:\n",
    "        nFiles += 1\n",
    "        nLoc += getLoC(file)\n",
    "        nGhost += getGhost(file)\n",
    "        nNonGhost += getNonGhost(file)\n",
    "        nDoc += getDocumentation(file)\n",
    "        nProved += getProved(file)\n",
    "    \n",
    "\n",
    "    df2 = pd.DataFrame([[getFolder(\"/Users/joannefuller/Documents/vscode/eth2.0-dafny\", file), \n",
    "                        nFiles, \n",
    "                        nLoc ,\n",
    "                        nGhost, \n",
    "                        nNonGhost,\n",
    "                        nDoc,\n",
    "                        round(nDoc/nLoc * 100),\n",
    "                        nProved]], \n",
    "                        columns=column_list)\n",
    "    df_grouped = df_grouped.append(df2, ignore_index=True)\n",
    "\n",
    "#display a sample of rows\n",
    "df_grouped.head(len(df_grouped))\n"
   ]
  },
  {
   "cell_type": "markdown",
   "metadata": {},
   "source": [
    "### Print dataframe to .csv, .tex and .pdf"
   ]
  },
  {
   "cell_type": "code",
   "execution_count": 23,
   "metadata": {},
   "outputs": [
    {
     "output_type": "execute_result",
     "data": {
      "text/plain": [
       "'data/data20210512.pdf'"
      ]
     },
     "metadata": {},
     "execution_count": 23
    }
   ],
   "source": [
    "# create filenames that include the current data string\n",
    "timestr = time.strftime(\"%Y%m%d\")\n",
    "rawfile = 'data' + timestr + '.csv'\n",
    "grouped_rawfile = 'dataGrouped' + timestr + '.csv'\n",
    "filename = 'data' + timestr + '.tex'\n",
    "pdffile = 'data' + timestr + '.pdf'\n",
    "\n",
    "# check if data directory already exists and create if necessary\n",
    "if not os.path.exists('data'):\n",
    "    os.makedirs('data')\n",
    "\n",
    "#print to csv file without an index\n",
    "df.to_csv(\"data/\" + rawfile, index = False)\n",
    "df_grouped.to_csv(\"data/\" + grouped_rawfile, index = False)\n",
    "\n",
    "#print to pdf via latex\n",
    "template = r'''\\documentclass[a4paper, 12pt]{{article}}\n",
    "\\usepackage[landscape]{{geometry}}\n",
    "\\usepackage{{booktabs}}\n",
    "\\begin{{document}}\n",
    "\\section*{{https://github.com/PegaSysEng/eth2.0-dafny}}\n",
    "\\subsection*{{Data collected: {}}}\n",
    "\\scriptsize\n",
    "{}\n",
    "\\vspace{{2em}}\n",
    "{}\n",
    "\\end{{document}}\n",
    "'''\n",
    "\n",
    "with open(filename, 'w') as f:\n",
    "    f.write(template.format(time.strftime(\"%Y-%m-%d\"), df.to_latex(index=False), df_grouped.to_latex(index=False)))\n",
    "\n",
    "subprocess.call(['pdflatex', filename])\n",
    "\n",
    "# remove surplus files and move .csv, .tex and .pdf files to the data folder\n",
    "os.remove('data' + timestr + '.log')\n",
    "os.remove('data' + timestr + '.aux')\n",
    "\n",
    "shutil.move(filename, \"data/\" + filename)\n",
    "shutil.move(pdffile, \"data/\" + pdffile)"
   ]
  }
 ]
}